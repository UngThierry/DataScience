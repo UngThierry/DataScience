{
 "cells": [
  {
   "cell_type": "markdown",
   "metadata": {},
   "source": [
    "IA & Data science (LU3IN0226) -- 2020-2021\n",
    "--------\n",
    "*&copy; Equipe pédagogique: Vincent Guigue, Christophe Marsala, Edoardo Sarti, Olivier Schwander.*\n"
   ]
  },
  {
   "cell_type": "markdown",
   "metadata": {},
   "source": [
    "# TD-TME06: les arbres de décision (catégoriel)\n",
    "\n",
    "L'objectif de ce notebook est d'implémenter un algorithme d'apprentissage supervisé qui travaille sur des données catégorielles, l'algorithme de construction d'arbres de décision.\n"
   ]
  },
  {
   "cell_type": "markdown",
   "metadata": {},
   "source": [
    "## Préparation du notebook"
   ]
  },
  {
   "cell_type": "markdown",
   "metadata": {},
   "source": [
    "<font size=\"+1\" color=\"RED\">**[Q]**</font> **Indiquer dans la boîte ci-dessous vos noms et prénoms :**"
   ]
  },
  {
   "cell_type": "markdown",
   "metadata": {},
   "source": [
    "Ung Thierry"
   ]
  },
  {
   "cell_type": "markdown",
   "metadata": {},
   "source": [
    "<font color=\"RED\" size=\"+1\">**[Q]**</font> **Renommer ce fichier ipython**\n",
    "\n",
    "Tout en haut de cette page, cliquer sur <tt>tme-06</tt> et rajouter à la suite de <tt>tme-06/tt> les noms des membres du binômes séparés par un tiret.\n",
    "\n",
    "Par exemple, pour le binôme Luke Skywalker et Han Solo, le nom de fichier devient `tme-06-Skywalker-Solo`\n",
    "\n",
    "Penser à sauvegarder fréquemment le fichier en cours de travail :\n",
    "- soit en cliquant sur l'icône \"disquette\"\n",
    "- soit par la combinaison de touches [Ctrl]-S"
   ]
  },
  {
   "cell_type": "code",
   "execution_count": 1,
   "metadata": {},
   "outputs": [],
   "source": [
    "# Importation des librairies standards:\n",
    "import numpy as np\n",
    "import pandas as pd\n",
    "import matplotlib.pyplot as plt\n",
    "%matplotlib inline  \n",
    "\n",
    "# Importation de votre librairie iads:\n",
    "# La ligne suivante permet de préciser le chemin d'accès à la librairie iads\n",
    "import sys\n",
    "sys.path.append('../')   # iads doit être dans le répertoire frère du répertoire courant !\n",
    "\n",
    "# Importation de la librairie iads\n",
    "import iads as iads\n",
    "\n",
    "# importation de Classifiers\n",
    "from iads import Classifiers as cl\n",
    "\n",
    "# importation de utils\n",
    "from iads import utils as ut\n",
    "\n",
    "# commande TRES utile pour recharger automatiquement le code que vous modifiez dans les modules\n",
    "%load_ext autoreload\n",
    "%autoreload 2"
   ]
  },
  {
   "cell_type": "markdown",
   "metadata": {},
   "source": [
    "Afin de réaliser les premiers essais avec les fonctions que l'on va programmer, on charge la base sur les élections vue dans le cours 6 et que l'on a utilisé dans le notebook précédent (cf. le notebook précédent pour revoir les étapes qui suivent)."
   ]
  },
  {
   "cell_type": "code",
   "execution_count": 2,
   "metadata": {
    "scrolled": false
   },
   "outputs": [
    {
     "output_type": "execute_result",
     "data": {
      "text/plain": [
       "       Adresse Majeur? Nationalite  Label\n",
       "0        Paris     oui    Francais      1\n",
       "1        Paris     non    Francais     -1\n",
       "2  Montpellier     oui     Italien      1\n",
       "3        Paris     oui      Suisse     -1\n",
       "4   Strasbourg     non     Italien     -1\n",
       "5   Strasbourg     non    Francais     -1\n",
       "6   Strasbourg     oui    Francais      1\n",
       "7  Montpellier     oui      Suisse     -1"
      ],
      "text/html": "<div>\n<style scoped>\n    .dataframe tbody tr th:only-of-type {\n        vertical-align: middle;\n    }\n\n    .dataframe tbody tr th {\n        vertical-align: top;\n    }\n\n    .dataframe thead th {\n        text-align: right;\n    }\n</style>\n<table border=\"1\" class=\"dataframe\">\n  <thead>\n    <tr style=\"text-align: right;\">\n      <th></th>\n      <th>Adresse</th>\n      <th>Majeur?</th>\n      <th>Nationalite</th>\n      <th>Label</th>\n    </tr>\n  </thead>\n  <tbody>\n    <tr>\n      <th>0</th>\n      <td>Paris</td>\n      <td>oui</td>\n      <td>Francais</td>\n      <td>1</td>\n    </tr>\n    <tr>\n      <th>1</th>\n      <td>Paris</td>\n      <td>non</td>\n      <td>Francais</td>\n      <td>-1</td>\n    </tr>\n    <tr>\n      <th>2</th>\n      <td>Montpellier</td>\n      <td>oui</td>\n      <td>Italien</td>\n      <td>1</td>\n    </tr>\n    <tr>\n      <th>3</th>\n      <td>Paris</td>\n      <td>oui</td>\n      <td>Suisse</td>\n      <td>-1</td>\n    </tr>\n    <tr>\n      <th>4</th>\n      <td>Strasbourg</td>\n      <td>non</td>\n      <td>Italien</td>\n      <td>-1</td>\n    </tr>\n    <tr>\n      <th>5</th>\n      <td>Strasbourg</td>\n      <td>non</td>\n      <td>Francais</td>\n      <td>-1</td>\n    </tr>\n    <tr>\n      <th>6</th>\n      <td>Strasbourg</td>\n      <td>oui</td>\n      <td>Francais</td>\n      <td>1</td>\n    </tr>\n    <tr>\n      <th>7</th>\n      <td>Montpellier</td>\n      <td>oui</td>\n      <td>Suisse</td>\n      <td>-1</td>\n    </tr>\n  </tbody>\n</table>\n</div>"
     },
     "metadata": {},
     "execution_count": 2
    }
   ],
   "source": [
    "# Chargement des fichiers de données :\n",
    "\n",
    "elections_df = pd.read_csv(\"data/elections.csv\")\n",
    "elections_df"
   ]
  },
  {
   "cell_type": "code",
   "execution_count": 3,
   "metadata": {},
   "outputs": [
    {
     "output_type": "execute_result",
     "data": {
      "text/plain": [
       "Index(['Adresse', 'Majeur?', 'Nationalite', 'Label'], dtype='object')"
      ]
     },
     "metadata": {},
     "execution_count": 3
    }
   ],
   "source": [
    "# Pour avoir le nom des colonnes de ce dataframe :\n",
    "elections_df.columns"
   ]
  },
  {
   "cell_type": "code",
   "execution_count": 4,
   "metadata": {},
   "outputs": [],
   "source": [
    "# Pour ne garder que le nom des variables de description (et pas la classe):\n",
    "# sous la forme d'une liste:\n",
    "\n",
    "elections_noms = [nom for nom in elections_df.columns if nom != 'Label']"
   ]
  },
  {
   "cell_type": "code",
   "execution_count": 5,
   "metadata": {},
   "outputs": [
    {
     "output_type": "stream",
     "name": "stdout",
     "text": [
      "Noms des features:  ['Adresse', 'Majeur?', 'Nationalite']\n"
     ]
    }
   ],
   "source": [
    "# Passer du dataframe à des arrays:\n",
    "elections_desc = np.array(elections_df[elections_noms])\n",
    "elections_label = np.array(elections_df['Label'])\n",
    "\n",
    "print(\"Noms des features: \",elections_noms)"
   ]
  },
  {
   "cell_type": "code",
   "execution_count": 6,
   "metadata": {},
   "outputs": [
    {
     "output_type": "execute_result",
     "data": {
      "text/plain": [
       "array([ 1, -1, -1], dtype=int64)"
      ]
     },
     "metadata": {},
     "execution_count": 6
    }
   ],
   "source": [
    "elections_label[elections_desc[:,0] == \"Paris\"]"
   ]
  },
  {
   "cell_type": "markdown",
   "metadata": {},
   "source": [
    "## Premières fonctions: entropie et classe majoritaire"
   ]
  },
  {
   "cell_type": "markdown",
   "metadata": {},
   "source": [
    "<font color=\"RED\" size=\"+1\">**[Q]**</font> Ecrire la fonction <code>classe_majoritaire</code> qui, étant donné un array de labels rend la classe majoritaire (celle qui est possédée par le plus grand nombre d'exemples donc...). En cas d'égalité, cette fonction rend la première classe rencontrée.\n",
    "\n",
    "**Remarque :** on utilise la fonction numpy `unique` qui permet d'obtenir les valeurs différentes d'un array ainsi que leur décompte."
   ]
  },
  {
   "cell_type": "code",
   "execution_count": 7,
   "metadata": {},
   "outputs": [
    {
     "output_type": "stream",
     "name": "stdout",
     "text": [
      "Valeurs différentes dans l'array           :  [-1  1]\nDécompte de chaque valeur (respectivement) :  [5 3]\n"
     ]
    }
   ],
   "source": [
    "# Exemple d'utilisation de la fonction numpy `unique`\n",
    "\n",
    "valeurs, nb_fois = np.unique(elections_label,return_counts=True)\n",
    "\n",
    "print(\"Valeurs différentes dans l'array           : \",valeurs)\n",
    "print(\"Décompte de chaque valeur (respectivement) : \",nb_fois)"
   ]
  },
  {
   "cell_type": "code",
   "execution_count": 8,
   "metadata": {},
   "outputs": [],
   "source": [
    "def classe_majoritaire(Y):\n",
    "    \"\"\" Y : (array) : array de labels\n",
    "        rend la classe majoritaire ()\n",
    "    \"\"\"\n",
    "    \n",
    "    # Liste des valeurs différentes et de leur effectif\n",
    "    valeurs, effectif = np.unique(Y,return_counts=True)\n",
    "    \n",
    "    classe_maj = valeurs[0]\n",
    "    effectif_maj = effectif[0]\n",
    "    \n",
    "    for i in range(1, len(valeurs)) :\n",
    "        if (effectif[i] > effectif_maj) :\n",
    "            # On a une nouvelle classe majoritaire\n",
    "            classe_maj = valeurs[i]\n",
    "            effectif_maj = effectif[i]\n",
    "    \n",
    "    return classe_maj"
   ]
  },
  {
   "cell_type": "code",
   "execution_count": 9,
   "metadata": {},
   "outputs": [
    {
     "output_type": "execute_result",
     "data": {
      "text/plain": [
       "-1"
      ]
     },
     "metadata": {},
     "execution_count": 9
    }
   ],
   "source": [
    "#Vérification sur nos données:\n",
    "classe_majoritaire(elections_label)"
   ]
  },
  {
   "cell_type": "markdown",
   "metadata": {},
   "source": [
    "### Entropie et gain d'information\n",
    "\n",
    "On note $\\{c_1, c_2,..., c_k\\}$, l'ensemble des valeurs de classes possibles.\n",
    "\n",
    "Dans le cours, la mesure de désordre présentée utilise, pour toute valeur $c$ de la classe le ratio $\\frac{\\mbox{nombre de } c \\mbox{ dans } Y}{|Y|}$ qui correspond à la probabilité de la classe $c$ parmi $Y$.\n",
    "On note dans ce qui suit $p_1$ la probabilité de la classe $c_1$ parmi $Y$, etc. \n",
    "\n",
    "Ainsi, on a $P=(p_1, p_2,..., p_k)$ la distribution de probabilités sur les classes ainsi définies.\n",
    "\n",
    "L'**entropie de Shannon** de la distribution $P$ est donnée par:\n",
    "\n",
    "$ H_S(P) = -\\sum_{i=1}^{k} p_i \\log_k(p_i)$\n",
    "\n",
    "Le logarithme utilisé est le logarithme en base $k$ afin d'obtenir une valeur comprise entre $0$ et $1$ de l'entropie. \n",
    "\n",
    "Pour ce qui suit, une *distribution de probabilités* est représentée par une **liste** Python $P=[p_1,...,p_k]$ de valeurs réelles telle que\n",
    "* pour tout $i=1,..., k$ : $0 \\leq p_i \\leq 1$\n",
    "* $\\sum_{i=1}^{k}p_i = 1$\n"
   ]
  },
  {
   "cell_type": "markdown",
   "metadata": {},
   "source": [
    "<font color=\"RED\" size=\"+1\">**[Q]**</font> Ecrire la fonction `shannon` qui, étant donné une distribution de probabilités $P$ fournie sous la forme d'une liste de nombres, rend la valeur de $H_S(P)$, l'entropie de Shannon de $P$."
   ]
  },
  {
   "cell_type": "code",
   "execution_count": 10,
   "metadata": {},
   "outputs": [],
   "source": [
    "import math\n",
    "def shannon(P):\n",
    "    \"\"\" list[Number] -> float\n",
    "        Hypothèse: la somme des nombres de P vaut 1\n",
    "        P correspond à une distribution de probabilité\n",
    "        rend la valeur de l'entropie de Shannon correspondante\n",
    "    \"\"\"\n",
    "\n",
    "    if ((int)(sum(P)) != 1) :\n",
    "        print(\"La somme des probabilités de P n'est pas égale à 1.\")\n",
    "        return\n",
    "    \n",
    "    HsP = 0.0\n",
    "    \n",
    "    if (len(P) == 1) :\n",
    "        return HsP\n",
    "    \n",
    "    for p in P :\n",
    "        if p != 0 :\n",
    "            HsP = HsP - p * math.log(p, len(P))\n",
    "        \n",
    "    return HsP"
   ]
  },
  {
   "cell_type": "code",
   "execution_count": 11,
   "metadata": {},
   "outputs": [
    {
     "output_type": "stream",
     "name": "stdout",
     "text": [
      "H([1]) =  0.0\nH([1,0]) =  0.0\nH([0.25, 0.25, 0.25, 0.25]) =  1.0\nH([0.7, 0.1, 0.2, 0.0]) =  0.5783898247235197\nH([1.0/3, 2.0/3]) =  0.9182958340544896\n"
     ]
    }
   ],
   "source": [
    "# Exemples d'utilisation:\n",
    "print(\"H([1]) = \", shannon([1]))\n",
    "print(\"H([1,0]) = \", shannon([1, 0]))\n",
    "print(\"H([0.25, 0.25, 0.25, 0.25]) = \", shannon([0.25, 0.25, 0.25, 0.25]))\n",
    "print(\"H([0.7, 0.1, 0.2, 0.0]) = \", shannon([0.7, 0.1, 0.2, 0.0]))\n",
    "print(\"H([1.0/3, 2.0/3]) = \", shannon([1.0/3, 2.0/3]))"
   ]
  },
  {
   "cell_type": "markdown",
   "metadata": {},
   "source": [
    "<font color=\"RED\" size=\"+1\">**[Q]**</font> Tracer, à l'aide de la fonction `plot`, la courbe donnant la valeur de `shannon([p, 1-p])` en fonction de `p`."
   ]
  },
  {
   "cell_type": "code",
   "execution_count": 12,
   "metadata": {},
   "outputs": [],
   "source": [
    "# Pour plot, on a besoin de la librairie suivante:\n",
    "import matplotlib.pyplot as plt"
   ]
  },
  {
   "cell_type": "code",
   "execution_count": 13,
   "metadata": {},
   "outputs": [
    {
     "output_type": "execute_result",
     "data": {
      "text/plain": [
       "Text(0, 0.5, 'shannon([p, 1-p])')"
      ]
     },
     "metadata": {},
     "execution_count": 13
    },
    {
     "output_type": "display_data",
     "data": {
      "text/plain": "<Figure size 432x288 with 1 Axes>",
      "image/svg+xml": "<?xml version=\"1.0\" encoding=\"utf-8\" standalone=\"no\"?>\r\n<!DOCTYPE svg PUBLIC \"-//W3C//DTD SVG 1.1//EN\"\r\n  \"http://www.w3.org/Graphics/SVG/1.1/DTD/svg11.dtd\">\r\n<!-- Created with matplotlib (https://matplotlib.org/) -->\r\n<svg height=\"263.63625pt\" version=\"1.1\" viewBox=\"0 0 385.78125 263.63625\" width=\"385.78125pt\" xmlns=\"http://www.w3.org/2000/svg\" xmlns:xlink=\"http://www.w3.org/1999/xlink\">\r\n <metadata>\r\n  <rdf:RDF xmlns:cc=\"http://creativecommons.org/ns#\" xmlns:dc=\"http://purl.org/dc/elements/1.1/\" xmlns:rdf=\"http://www.w3.org/1999/02/22-rdf-syntax-ns#\">\r\n   <cc:Work>\r\n    <dc:type rdf:resource=\"http://purl.org/dc/dcmitype/StillImage\"/>\r\n    <dc:date>2021-05-13T23:53:56.148812</dc:date>\r\n    <dc:format>image/svg+xml</dc:format>\r\n    <dc:creator>\r\n     <cc:Agent>\r\n      <dc:title>Matplotlib v3.3.2, https://matplotlib.org/</dc:title>\r\n     </cc:Agent>\r\n    </dc:creator>\r\n   </cc:Work>\r\n  </rdf:RDF>\r\n </metadata>\r\n <defs>\r\n  <style type=\"text/css\">*{stroke-linecap:butt;stroke-linejoin:round;}</style>\r\n </defs>\r\n <g id=\"figure_1\">\r\n  <g id=\"patch_1\">\r\n   <path d=\"M 0 263.63625 \r\nL 385.78125 263.63625 \r\nL 385.78125 0 \r\nL 0 0 \r\nz\r\n\" style=\"fill:none;\"/>\r\n  </g>\r\n  <g id=\"axes_1\">\r\n   <g id=\"patch_2\">\r\n    <path d=\"M 43.78125 239.758125 \r\nL 378.58125 239.758125 \r\nL 378.58125 22.318125 \r\nL 43.78125 22.318125 \r\nz\r\n\" style=\"fill:#ffffff;\"/>\r\n   </g>\r\n   <g id=\"matplotlib.axis_1\">\r\n    <g id=\"xtick_1\">\r\n     <g id=\"line2d_1\">\r\n      <defs>\r\n       <path d=\"M 0 0 \r\nL 0 3.5 \r\n\" id=\"mb837efee6a\" style=\"stroke:#000000;stroke-width:0.8;\"/>\r\n      </defs>\r\n      <g>\r\n       <use style=\"stroke:#000000;stroke-width:0.8;\" x=\"58.999432\" xlink:href=\"#mb837efee6a\" y=\"239.758125\"/>\r\n      </g>\r\n     </g>\r\n     <g id=\"text_1\">\r\n      <!-- 0 -->\r\n      <g transform=\"translate(55.818182 254.356563)scale(0.1 -0.1)\">\r\n       <defs>\r\n        <path d=\"M 31.78125 66.40625 \r\nQ 24.171875 66.40625 20.328125 58.90625 \r\nQ 16.5 51.421875 16.5 36.375 \r\nQ 16.5 21.390625 20.328125 13.890625 \r\nQ 24.171875 6.390625 31.78125 6.390625 \r\nQ 39.453125 6.390625 43.28125 13.890625 \r\nQ 47.125 21.390625 47.125 36.375 \r\nQ 47.125 51.421875 43.28125 58.90625 \r\nQ 39.453125 66.40625 31.78125 66.40625 \r\nz\r\nM 31.78125 74.21875 \r\nQ 44.046875 74.21875 50.515625 64.515625 \r\nQ 56.984375 54.828125 56.984375 36.375 \r\nQ 56.984375 17.96875 50.515625 8.265625 \r\nQ 44.046875 -1.421875 31.78125 -1.421875 \r\nQ 19.53125 -1.421875 13.0625 8.265625 \r\nQ 6.59375 17.96875 6.59375 36.375 \r\nQ 6.59375 54.828125 13.0625 64.515625 \r\nQ 19.53125 74.21875 31.78125 74.21875 \r\nz\r\n\" id=\"DejaVuSans-48\"/>\r\n       </defs>\r\n       <use xlink:href=\"#DejaVuSans-48\"/>\r\n      </g>\r\n     </g>\r\n    </g>\r\n    <g id=\"xtick_2\">\r\n     <g id=\"line2d_2\">\r\n      <g>\r\n       <use style=\"stroke:#000000;stroke-width:0.8;\" x=\"119.872159\" xlink:href=\"#mb837efee6a\" y=\"239.758125\"/>\r\n      </g>\r\n     </g>\r\n     <g id=\"text_2\">\r\n      <!-- 20 -->\r\n      <g transform=\"translate(113.509659 254.356563)scale(0.1 -0.1)\">\r\n       <defs>\r\n        <path d=\"M 19.1875 8.296875 \r\nL 53.609375 8.296875 \r\nL 53.609375 0 \r\nL 7.328125 0 \r\nL 7.328125 8.296875 \r\nQ 12.9375 14.109375 22.625 23.890625 \r\nQ 32.328125 33.6875 34.8125 36.53125 \r\nQ 39.546875 41.84375 41.421875 45.53125 \r\nQ 43.3125 49.21875 43.3125 52.78125 \r\nQ 43.3125 58.59375 39.234375 62.25 \r\nQ 35.15625 65.921875 28.609375 65.921875 \r\nQ 23.96875 65.921875 18.8125 64.3125 \r\nQ 13.671875 62.703125 7.8125 59.421875 \r\nL 7.8125 69.390625 \r\nQ 13.765625 71.78125 18.9375 73 \r\nQ 24.125 74.21875 28.421875 74.21875 \r\nQ 39.75 74.21875 46.484375 68.546875 \r\nQ 53.21875 62.890625 53.21875 53.421875 \r\nQ 53.21875 48.921875 51.53125 44.890625 \r\nQ 49.859375 40.875 45.40625 35.40625 \r\nQ 44.1875 33.984375 37.640625 27.21875 \r\nQ 31.109375 20.453125 19.1875 8.296875 \r\nz\r\n\" id=\"DejaVuSans-50\"/>\r\n       </defs>\r\n       <use xlink:href=\"#DejaVuSans-50\"/>\r\n       <use x=\"63.623047\" xlink:href=\"#DejaVuSans-48\"/>\r\n      </g>\r\n     </g>\r\n    </g>\r\n    <g id=\"xtick_3\">\r\n     <g id=\"line2d_3\">\r\n      <g>\r\n       <use style=\"stroke:#000000;stroke-width:0.8;\" x=\"180.744886\" xlink:href=\"#mb837efee6a\" y=\"239.758125\"/>\r\n      </g>\r\n     </g>\r\n     <g id=\"text_3\">\r\n      <!-- 40 -->\r\n      <g transform=\"translate(174.382386 254.356563)scale(0.1 -0.1)\">\r\n       <defs>\r\n        <path d=\"M 37.796875 64.3125 \r\nL 12.890625 25.390625 \r\nL 37.796875 25.390625 \r\nz\r\nM 35.203125 72.90625 \r\nL 47.609375 72.90625 \r\nL 47.609375 25.390625 \r\nL 58.015625 25.390625 \r\nL 58.015625 17.1875 \r\nL 47.609375 17.1875 \r\nL 47.609375 0 \r\nL 37.796875 0 \r\nL 37.796875 17.1875 \r\nL 4.890625 17.1875 \r\nL 4.890625 26.703125 \r\nz\r\n\" id=\"DejaVuSans-52\"/>\r\n       </defs>\r\n       <use xlink:href=\"#DejaVuSans-52\"/>\r\n       <use x=\"63.623047\" xlink:href=\"#DejaVuSans-48\"/>\r\n      </g>\r\n     </g>\r\n    </g>\r\n    <g id=\"xtick_4\">\r\n     <g id=\"line2d_4\">\r\n      <g>\r\n       <use style=\"stroke:#000000;stroke-width:0.8;\" x=\"241.617614\" xlink:href=\"#mb837efee6a\" y=\"239.758125\"/>\r\n      </g>\r\n     </g>\r\n     <g id=\"text_4\">\r\n      <!-- 60 -->\r\n      <g transform=\"translate(235.255114 254.356563)scale(0.1 -0.1)\">\r\n       <defs>\r\n        <path d=\"M 33.015625 40.375 \r\nQ 26.375 40.375 22.484375 35.828125 \r\nQ 18.609375 31.296875 18.609375 23.390625 \r\nQ 18.609375 15.53125 22.484375 10.953125 \r\nQ 26.375 6.390625 33.015625 6.390625 \r\nQ 39.65625 6.390625 43.53125 10.953125 \r\nQ 47.40625 15.53125 47.40625 23.390625 \r\nQ 47.40625 31.296875 43.53125 35.828125 \r\nQ 39.65625 40.375 33.015625 40.375 \r\nz\r\nM 52.59375 71.296875 \r\nL 52.59375 62.3125 \r\nQ 48.875 64.0625 45.09375 64.984375 \r\nQ 41.3125 65.921875 37.59375 65.921875 \r\nQ 27.828125 65.921875 22.671875 59.328125 \r\nQ 17.53125 52.734375 16.796875 39.40625 \r\nQ 19.671875 43.65625 24.015625 45.921875 \r\nQ 28.375 48.1875 33.59375 48.1875 \r\nQ 44.578125 48.1875 50.953125 41.515625 \r\nQ 57.328125 34.859375 57.328125 23.390625 \r\nQ 57.328125 12.15625 50.6875 5.359375 \r\nQ 44.046875 -1.421875 33.015625 -1.421875 \r\nQ 20.359375 -1.421875 13.671875 8.265625 \r\nQ 6.984375 17.96875 6.984375 36.375 \r\nQ 6.984375 53.65625 15.1875 63.9375 \r\nQ 23.390625 74.21875 37.203125 74.21875 \r\nQ 40.921875 74.21875 44.703125 73.484375 \r\nQ 48.484375 72.75 52.59375 71.296875 \r\nz\r\n\" id=\"DejaVuSans-54\"/>\r\n       </defs>\r\n       <use xlink:href=\"#DejaVuSans-54\"/>\r\n       <use x=\"63.623047\" xlink:href=\"#DejaVuSans-48\"/>\r\n      </g>\r\n     </g>\r\n    </g>\r\n    <g id=\"xtick_5\">\r\n     <g id=\"line2d_5\">\r\n      <g>\r\n       <use style=\"stroke:#000000;stroke-width:0.8;\" x=\"302.490341\" xlink:href=\"#mb837efee6a\" y=\"239.758125\"/>\r\n      </g>\r\n     </g>\r\n     <g id=\"text_5\">\r\n      <!-- 80 -->\r\n      <g transform=\"translate(296.127841 254.356563)scale(0.1 -0.1)\">\r\n       <defs>\r\n        <path d=\"M 31.78125 34.625 \r\nQ 24.75 34.625 20.71875 30.859375 \r\nQ 16.703125 27.09375 16.703125 20.515625 \r\nQ 16.703125 13.921875 20.71875 10.15625 \r\nQ 24.75 6.390625 31.78125 6.390625 \r\nQ 38.8125 6.390625 42.859375 10.171875 \r\nQ 46.921875 13.96875 46.921875 20.515625 \r\nQ 46.921875 27.09375 42.890625 30.859375 \r\nQ 38.875 34.625 31.78125 34.625 \r\nz\r\nM 21.921875 38.8125 \r\nQ 15.578125 40.375 12.03125 44.71875 \r\nQ 8.5 49.078125 8.5 55.328125 \r\nQ 8.5 64.0625 14.71875 69.140625 \r\nQ 20.953125 74.21875 31.78125 74.21875 \r\nQ 42.671875 74.21875 48.875 69.140625 \r\nQ 55.078125 64.0625 55.078125 55.328125 \r\nQ 55.078125 49.078125 51.53125 44.71875 \r\nQ 48 40.375 41.703125 38.8125 \r\nQ 48.828125 37.15625 52.796875 32.3125 \r\nQ 56.78125 27.484375 56.78125 20.515625 \r\nQ 56.78125 9.90625 50.3125 4.234375 \r\nQ 43.84375 -1.421875 31.78125 -1.421875 \r\nQ 19.734375 -1.421875 13.25 4.234375 \r\nQ 6.78125 9.90625 6.78125 20.515625 \r\nQ 6.78125 27.484375 10.78125 32.3125 \r\nQ 14.796875 37.15625 21.921875 38.8125 \r\nz\r\nM 18.3125 54.390625 \r\nQ 18.3125 48.734375 21.84375 45.5625 \r\nQ 25.390625 42.390625 31.78125 42.390625 \r\nQ 38.140625 42.390625 41.71875 45.5625 \r\nQ 45.3125 48.734375 45.3125 54.390625 \r\nQ 45.3125 60.0625 41.71875 63.234375 \r\nQ 38.140625 66.40625 31.78125 66.40625 \r\nQ 25.390625 66.40625 21.84375 63.234375 \r\nQ 18.3125 60.0625 18.3125 54.390625 \r\nz\r\n\" id=\"DejaVuSans-56\"/>\r\n       </defs>\r\n       <use xlink:href=\"#DejaVuSans-56\"/>\r\n       <use x=\"63.623047\" xlink:href=\"#DejaVuSans-48\"/>\r\n      </g>\r\n     </g>\r\n    </g>\r\n    <g id=\"xtick_6\">\r\n     <g id=\"line2d_6\">\r\n      <g>\r\n       <use style=\"stroke:#000000;stroke-width:0.8;\" x=\"363.363068\" xlink:href=\"#mb837efee6a\" y=\"239.758125\"/>\r\n      </g>\r\n     </g>\r\n     <g id=\"text_6\">\r\n      <!-- 100 -->\r\n      <g transform=\"translate(353.819318 254.356563)scale(0.1 -0.1)\">\r\n       <defs>\r\n        <path d=\"M 12.40625 8.296875 \r\nL 28.515625 8.296875 \r\nL 28.515625 63.921875 \r\nL 10.984375 60.40625 \r\nL 10.984375 69.390625 \r\nL 28.421875 72.90625 \r\nL 38.28125 72.90625 \r\nL 38.28125 8.296875 \r\nL 54.390625 8.296875 \r\nL 54.390625 0 \r\nL 12.40625 0 \r\nz\r\n\" id=\"DejaVuSans-49\"/>\r\n       </defs>\r\n       <use xlink:href=\"#DejaVuSans-49\"/>\r\n       <use x=\"63.623047\" xlink:href=\"#DejaVuSans-48\"/>\r\n       <use x=\"127.246094\" xlink:href=\"#DejaVuSans-48\"/>\r\n      </g>\r\n     </g>\r\n    </g>\r\n   </g>\r\n   <g id=\"matplotlib.axis_2\">\r\n    <g id=\"ytick_1\">\r\n     <g id=\"line2d_7\">\r\n      <defs>\r\n       <path d=\"M 0 0 \r\nL -3.5 0 \r\n\" id=\"m9cce74c8ce\" style=\"stroke:#000000;stroke-width:0.8;\"/>\r\n      </defs>\r\n      <g>\r\n       <use style=\"stroke:#000000;stroke-width:0.8;\" x=\"43.78125\" xlink:href=\"#m9cce74c8ce\" y=\"229.874489\"/>\r\n      </g>\r\n     </g>\r\n     <g id=\"text_7\">\r\n      <!-- 0.0 -->\r\n      <g transform=\"translate(20.878125 233.673707)scale(0.1 -0.1)\">\r\n       <defs>\r\n        <path d=\"M 10.6875 12.40625 \r\nL 21 12.40625 \r\nL 21 0 \r\nL 10.6875 0 \r\nz\r\n\" id=\"DejaVuSans-46\"/>\r\n       </defs>\r\n       <use xlink:href=\"#DejaVuSans-48\"/>\r\n       <use x=\"63.623047\" xlink:href=\"#DejaVuSans-46\"/>\r\n       <use x=\"95.410156\" xlink:href=\"#DejaVuSans-48\"/>\r\n      </g>\r\n     </g>\r\n    </g>\r\n    <g id=\"ytick_2\">\r\n     <g id=\"line2d_8\">\r\n      <g>\r\n       <use style=\"stroke:#000000;stroke-width:0.8;\" x=\"43.78125\" xlink:href=\"#m9cce74c8ce\" y=\"190.339943\"/>\r\n      </g>\r\n     </g>\r\n     <g id=\"text_8\">\r\n      <!-- 0.2 -->\r\n      <g transform=\"translate(20.878125 194.139162)scale(0.1 -0.1)\">\r\n       <use xlink:href=\"#DejaVuSans-48\"/>\r\n       <use x=\"63.623047\" xlink:href=\"#DejaVuSans-46\"/>\r\n       <use x=\"95.410156\" xlink:href=\"#DejaVuSans-50\"/>\r\n      </g>\r\n     </g>\r\n    </g>\r\n    <g id=\"ytick_3\">\r\n     <g id=\"line2d_9\">\r\n      <g>\r\n       <use style=\"stroke:#000000;stroke-width:0.8;\" x=\"43.78125\" xlink:href=\"#m9cce74c8ce\" y=\"150.805398\"/>\r\n      </g>\r\n     </g>\r\n     <g id=\"text_9\">\r\n      <!-- 0.4 -->\r\n      <g transform=\"translate(20.878125 154.604616)scale(0.1 -0.1)\">\r\n       <use xlink:href=\"#DejaVuSans-48\"/>\r\n       <use x=\"63.623047\" xlink:href=\"#DejaVuSans-46\"/>\r\n       <use x=\"95.410156\" xlink:href=\"#DejaVuSans-52\"/>\r\n      </g>\r\n     </g>\r\n    </g>\r\n    <g id=\"ytick_4\">\r\n     <g id=\"line2d_10\">\r\n      <g>\r\n       <use style=\"stroke:#000000;stroke-width:0.8;\" x=\"43.78125\" xlink:href=\"#m9cce74c8ce\" y=\"111.270852\"/>\r\n      </g>\r\n     </g>\r\n     <g id=\"text_10\">\r\n      <!-- 0.6 -->\r\n      <g transform=\"translate(20.878125 115.070071)scale(0.1 -0.1)\">\r\n       <use xlink:href=\"#DejaVuSans-48\"/>\r\n       <use x=\"63.623047\" xlink:href=\"#DejaVuSans-46\"/>\r\n       <use x=\"95.410156\" xlink:href=\"#DejaVuSans-54\"/>\r\n      </g>\r\n     </g>\r\n    </g>\r\n    <g id=\"ytick_5\">\r\n     <g id=\"line2d_11\">\r\n      <g>\r\n       <use style=\"stroke:#000000;stroke-width:0.8;\" x=\"43.78125\" xlink:href=\"#m9cce74c8ce\" y=\"71.736307\"/>\r\n      </g>\r\n     </g>\r\n     <g id=\"text_11\">\r\n      <!-- 0.8 -->\r\n      <g transform=\"translate(20.878125 75.535526)scale(0.1 -0.1)\">\r\n       <use xlink:href=\"#DejaVuSans-48\"/>\r\n       <use x=\"63.623047\" xlink:href=\"#DejaVuSans-46\"/>\r\n       <use x=\"95.410156\" xlink:href=\"#DejaVuSans-56\"/>\r\n      </g>\r\n     </g>\r\n    </g>\r\n    <g id=\"ytick_6\">\r\n     <g id=\"line2d_12\">\r\n      <g>\r\n       <use style=\"stroke:#000000;stroke-width:0.8;\" x=\"43.78125\" xlink:href=\"#m9cce74c8ce\" y=\"32.201761\"/>\r\n      </g>\r\n     </g>\r\n     <g id=\"text_12\">\r\n      <!-- 1.0 -->\r\n      <g transform=\"translate(20.878125 36.00098)scale(0.1 -0.1)\">\r\n       <use xlink:href=\"#DejaVuSans-49\"/>\r\n       <use x=\"63.623047\" xlink:href=\"#DejaVuSans-46\"/>\r\n       <use x=\"95.410156\" xlink:href=\"#DejaVuSans-48\"/>\r\n      </g>\r\n     </g>\r\n    </g>\r\n    <g id=\"text_13\">\r\n     <!-- shannon([p, 1-p]) -->\r\n     <g transform=\"translate(14.798438 174.756094)rotate(-90)scale(0.1 -0.1)\">\r\n      <defs>\r\n       <path d=\"M 44.28125 53.078125 \r\nL 44.28125 44.578125 \r\nQ 40.484375 46.53125 36.375 47.5 \r\nQ 32.28125 48.484375 27.875 48.484375 \r\nQ 21.1875 48.484375 17.84375 46.4375 \r\nQ 14.5 44.390625 14.5 40.28125 \r\nQ 14.5 37.15625 16.890625 35.375 \r\nQ 19.28125 33.59375 26.515625 31.984375 \r\nL 29.59375 31.296875 \r\nQ 39.15625 29.25 43.1875 25.515625 \r\nQ 47.21875 21.78125 47.21875 15.09375 \r\nQ 47.21875 7.46875 41.1875 3.015625 \r\nQ 35.15625 -1.421875 24.609375 -1.421875 \r\nQ 20.21875 -1.421875 15.453125 -0.5625 \r\nQ 10.6875 0.296875 5.421875 2 \r\nL 5.421875 11.28125 \r\nQ 10.40625 8.6875 15.234375 7.390625 \r\nQ 20.0625 6.109375 24.8125 6.109375 \r\nQ 31.15625 6.109375 34.5625 8.28125 \r\nQ 37.984375 10.453125 37.984375 14.40625 \r\nQ 37.984375 18.0625 35.515625 20.015625 \r\nQ 33.0625 21.96875 24.703125 23.78125 \r\nL 21.578125 24.515625 \r\nQ 13.234375 26.265625 9.515625 29.90625 \r\nQ 5.8125 33.546875 5.8125 39.890625 \r\nQ 5.8125 47.609375 11.28125 51.796875 \r\nQ 16.75 56 26.8125 56 \r\nQ 31.78125 56 36.171875 55.265625 \r\nQ 40.578125 54.546875 44.28125 53.078125 \r\nz\r\n\" id=\"DejaVuSans-115\"/>\r\n       <path d=\"M 54.890625 33.015625 \r\nL 54.890625 0 \r\nL 45.90625 0 \r\nL 45.90625 32.71875 \r\nQ 45.90625 40.484375 42.875 44.328125 \r\nQ 39.84375 48.1875 33.796875 48.1875 \r\nQ 26.515625 48.1875 22.3125 43.546875 \r\nQ 18.109375 38.921875 18.109375 30.90625 \r\nL 18.109375 0 \r\nL 9.078125 0 \r\nL 9.078125 75.984375 \r\nL 18.109375 75.984375 \r\nL 18.109375 46.1875 \r\nQ 21.34375 51.125 25.703125 53.5625 \r\nQ 30.078125 56 35.796875 56 \r\nQ 45.21875 56 50.046875 50.171875 \r\nQ 54.890625 44.34375 54.890625 33.015625 \r\nz\r\n\" id=\"DejaVuSans-104\"/>\r\n       <path d=\"M 34.28125 27.484375 \r\nQ 23.390625 27.484375 19.1875 25 \r\nQ 14.984375 22.515625 14.984375 16.5 \r\nQ 14.984375 11.71875 18.140625 8.90625 \r\nQ 21.296875 6.109375 26.703125 6.109375 \r\nQ 34.1875 6.109375 38.703125 11.40625 \r\nQ 43.21875 16.703125 43.21875 25.484375 \r\nL 43.21875 27.484375 \r\nz\r\nM 52.203125 31.203125 \r\nL 52.203125 0 \r\nL 43.21875 0 \r\nL 43.21875 8.296875 \r\nQ 40.140625 3.328125 35.546875 0.953125 \r\nQ 30.953125 -1.421875 24.3125 -1.421875 \r\nQ 15.921875 -1.421875 10.953125 3.296875 \r\nQ 6 8.015625 6 15.921875 \r\nQ 6 25.140625 12.171875 29.828125 \r\nQ 18.359375 34.515625 30.609375 34.515625 \r\nL 43.21875 34.515625 \r\nL 43.21875 35.40625 \r\nQ 43.21875 41.609375 39.140625 45 \r\nQ 35.0625 48.390625 27.6875 48.390625 \r\nQ 23 48.390625 18.546875 47.265625 \r\nQ 14.109375 46.140625 10.015625 43.890625 \r\nL 10.015625 52.203125 \r\nQ 14.9375 54.109375 19.578125 55.046875 \r\nQ 24.21875 56 28.609375 56 \r\nQ 40.484375 56 46.34375 49.84375 \r\nQ 52.203125 43.703125 52.203125 31.203125 \r\nz\r\n\" id=\"DejaVuSans-97\"/>\r\n       <path d=\"M 54.890625 33.015625 \r\nL 54.890625 0 \r\nL 45.90625 0 \r\nL 45.90625 32.71875 \r\nQ 45.90625 40.484375 42.875 44.328125 \r\nQ 39.84375 48.1875 33.796875 48.1875 \r\nQ 26.515625 48.1875 22.3125 43.546875 \r\nQ 18.109375 38.921875 18.109375 30.90625 \r\nL 18.109375 0 \r\nL 9.078125 0 \r\nL 9.078125 54.6875 \r\nL 18.109375 54.6875 \r\nL 18.109375 46.1875 \r\nQ 21.34375 51.125 25.703125 53.5625 \r\nQ 30.078125 56 35.796875 56 \r\nQ 45.21875 56 50.046875 50.171875 \r\nQ 54.890625 44.34375 54.890625 33.015625 \r\nz\r\n\" id=\"DejaVuSans-110\"/>\r\n       <path d=\"M 30.609375 48.390625 \r\nQ 23.390625 48.390625 19.1875 42.75 \r\nQ 14.984375 37.109375 14.984375 27.296875 \r\nQ 14.984375 17.484375 19.15625 11.84375 \r\nQ 23.34375 6.203125 30.609375 6.203125 \r\nQ 37.796875 6.203125 41.984375 11.859375 \r\nQ 46.1875 17.53125 46.1875 27.296875 \r\nQ 46.1875 37.015625 41.984375 42.703125 \r\nQ 37.796875 48.390625 30.609375 48.390625 \r\nz\r\nM 30.609375 56 \r\nQ 42.328125 56 49.015625 48.375 \r\nQ 55.71875 40.765625 55.71875 27.296875 \r\nQ 55.71875 13.875 49.015625 6.21875 \r\nQ 42.328125 -1.421875 30.609375 -1.421875 \r\nQ 18.84375 -1.421875 12.171875 6.21875 \r\nQ 5.515625 13.875 5.515625 27.296875 \r\nQ 5.515625 40.765625 12.171875 48.375 \r\nQ 18.84375 56 30.609375 56 \r\nz\r\n\" id=\"DejaVuSans-111\"/>\r\n       <path d=\"M 31 75.875 \r\nQ 24.46875 64.65625 21.28125 53.65625 \r\nQ 18.109375 42.671875 18.109375 31.390625 \r\nQ 18.109375 20.125 21.3125 9.0625 \r\nQ 24.515625 -2 31 -13.1875 \r\nL 23.1875 -13.1875 \r\nQ 15.875 -1.703125 12.234375 9.375 \r\nQ 8.59375 20.453125 8.59375 31.390625 \r\nQ 8.59375 42.28125 12.203125 53.3125 \r\nQ 15.828125 64.359375 23.1875 75.875 \r\nz\r\n\" id=\"DejaVuSans-40\"/>\r\n       <path d=\"M 8.59375 75.984375 \r\nL 29.296875 75.984375 \r\nL 29.296875 69 \r\nL 17.578125 69 \r\nL 17.578125 -6.203125 \r\nL 29.296875 -6.203125 \r\nL 29.296875 -13.1875 \r\nL 8.59375 -13.1875 \r\nz\r\n\" id=\"DejaVuSans-91\"/>\r\n       <path d=\"M 18.109375 8.203125 \r\nL 18.109375 -20.796875 \r\nL 9.078125 -20.796875 \r\nL 9.078125 54.6875 \r\nL 18.109375 54.6875 \r\nL 18.109375 46.390625 \r\nQ 20.953125 51.265625 25.265625 53.625 \r\nQ 29.59375 56 35.59375 56 \r\nQ 45.5625 56 51.78125 48.09375 \r\nQ 58.015625 40.1875 58.015625 27.296875 \r\nQ 58.015625 14.40625 51.78125 6.484375 \r\nQ 45.5625 -1.421875 35.59375 -1.421875 \r\nQ 29.59375 -1.421875 25.265625 0.953125 \r\nQ 20.953125 3.328125 18.109375 8.203125 \r\nz\r\nM 48.6875 27.296875 \r\nQ 48.6875 37.203125 44.609375 42.84375 \r\nQ 40.53125 48.484375 33.40625 48.484375 \r\nQ 26.265625 48.484375 22.1875 42.84375 \r\nQ 18.109375 37.203125 18.109375 27.296875 \r\nQ 18.109375 17.390625 22.1875 11.75 \r\nQ 26.265625 6.109375 33.40625 6.109375 \r\nQ 40.53125 6.109375 44.609375 11.75 \r\nQ 48.6875 17.390625 48.6875 27.296875 \r\nz\r\n\" id=\"DejaVuSans-112\"/>\r\n       <path d=\"M 11.71875 12.40625 \r\nL 22.015625 12.40625 \r\nL 22.015625 4 \r\nL 14.015625 -11.625 \r\nL 7.71875 -11.625 \r\nL 11.71875 4 \r\nz\r\n\" id=\"DejaVuSans-44\"/>\r\n       <path id=\"DejaVuSans-32\"/>\r\n       <path d=\"M 4.890625 31.390625 \r\nL 31.203125 31.390625 \r\nL 31.203125 23.390625 \r\nL 4.890625 23.390625 \r\nz\r\n\" id=\"DejaVuSans-45\"/>\r\n       <path d=\"M 30.421875 75.984375 \r\nL 30.421875 -13.1875 \r\nL 9.71875 -13.1875 \r\nL 9.71875 -6.203125 \r\nL 21.390625 -6.203125 \r\nL 21.390625 69 \r\nL 9.71875 69 \r\nL 9.71875 75.984375 \r\nz\r\n\" id=\"DejaVuSans-93\"/>\r\n       <path d=\"M 8.015625 75.875 \r\nL 15.828125 75.875 \r\nQ 23.140625 64.359375 26.78125 53.3125 \r\nQ 30.421875 42.28125 30.421875 31.390625 \r\nQ 30.421875 20.453125 26.78125 9.375 \r\nQ 23.140625 -1.703125 15.828125 -13.1875 \r\nL 8.015625 -13.1875 \r\nQ 14.5 -2 17.703125 9.0625 \r\nQ 20.90625 20.125 20.90625 31.390625 \r\nQ 20.90625 42.671875 17.703125 53.65625 \r\nQ 14.5 64.65625 8.015625 75.875 \r\nz\r\n\" id=\"DejaVuSans-41\"/>\r\n      </defs>\r\n      <use xlink:href=\"#DejaVuSans-115\"/>\r\n      <use x=\"52.099609\" xlink:href=\"#DejaVuSans-104\"/>\r\n      <use x=\"115.478516\" xlink:href=\"#DejaVuSans-97\"/>\r\n      <use x=\"176.757812\" xlink:href=\"#DejaVuSans-110\"/>\r\n      <use x=\"240.136719\" xlink:href=\"#DejaVuSans-110\"/>\r\n      <use x=\"303.515625\" xlink:href=\"#DejaVuSans-111\"/>\r\n      <use x=\"364.697266\" xlink:href=\"#DejaVuSans-110\"/>\r\n      <use x=\"428.076172\" xlink:href=\"#DejaVuSans-40\"/>\r\n      <use x=\"467.089844\" xlink:href=\"#DejaVuSans-91\"/>\r\n      <use x=\"506.103516\" xlink:href=\"#DejaVuSans-112\"/>\r\n      <use x=\"569.580078\" xlink:href=\"#DejaVuSans-44\"/>\r\n      <use x=\"601.367188\" xlink:href=\"#DejaVuSans-32\"/>\r\n      <use x=\"633.154297\" xlink:href=\"#DejaVuSans-49\"/>\r\n      <use x=\"696.777344\" xlink:href=\"#DejaVuSans-45\"/>\r\n      <use x=\"732.861328\" xlink:href=\"#DejaVuSans-112\"/>\r\n      <use x=\"796.337891\" xlink:href=\"#DejaVuSans-93\"/>\r\n      <use x=\"835.351562\" xlink:href=\"#DejaVuSans-41\"/>\r\n     </g>\r\n    </g>\r\n   </g>\r\n   <g id=\"line2d_13\">\r\n    <path clip-path=\"url(#pa83a19d17a)\" d=\"M 58.999432 229.874489 \r\nL 62.043068 213.903889 \r\nL 65.086705 201.915551 \r\nL 68.130341 191.44852 \r\nL 71.173977 181.979931 \r\nL 74.217614 173.261621 \r\nL 77.26125 165.147558 \r\nL 80.304886 157.541363 \r\nL 83.348523 150.374631 \r\nL 86.392159 143.59631 \r\nL 89.435795 137.166851 \r\nL 92.479432 131.054738 \r\nL 95.523068 125.234283 \r\nL 98.566705 119.684162 \r\nL 101.610341 114.386409 \r\nL 104.653977 109.325692 \r\nL 107.697614 104.488789 \r\nL 110.74125 99.864191 \r\nL 113.784886 95.441804 \r\nL 116.828523 91.212712 \r\nL 119.872159 87.168993 \r\nL 122.915795 83.303573 \r\nL 125.959432 79.610105 \r\nL 129.003068 76.082872 \r\nL 132.046705 72.716708 \r\nL 135.090341 69.506929 \r\nL 138.133977 66.449278 \r\nL 141.177614 63.539879 \r\nL 144.22125 60.775194 \r\nL 147.264886 58.151991 \r\nL 150.308523 55.667313 \r\nL 153.352159 53.318455 \r\nL 156.395795 51.102939 \r\nL 159.439432 49.018497 \r\nL 162.483068 47.063053 \r\nL 165.526705 45.234709 \r\nL 168.570341 43.531732 \r\nL 171.613977 41.952543 \r\nL 174.657614 40.495709 \r\nL 177.70125 39.159931 \r\nL 180.744886 37.944037 \r\nL 183.788523 36.846978 \r\nL 186.832159 35.867821 \r\nL 189.875795 35.005742 \r\nL 192.919432 34.260024 \r\nL 195.963068 33.630055 \r\nL 199.006705 33.115318 \r\nL 202.050341 32.715396 \r\nL 205.093977 32.429967 \r\nL 208.137614 32.258801 \r\nL 211.18125 32.201761 \r\nL 214.224886 32.258801 \r\nL 217.268523 32.429967 \r\nL 220.312159 32.715396 \r\nL 223.355795 33.115318 \r\nL 226.399432 33.630055 \r\nL 229.443068 34.260024 \r\nL 232.486705 35.005742 \r\nL 235.530341 35.867821 \r\nL 238.573977 36.846978 \r\nL 241.617614 37.944037 \r\nL 244.66125 39.159931 \r\nL 247.704886 40.495709 \r\nL 250.748523 41.952543 \r\nL 253.792159 43.531732 \r\nL 256.835795 45.234709 \r\nL 259.879432 47.063053 \r\nL 262.923068 49.018497 \r\nL 265.966705 51.102939 \r\nL 269.010341 53.318455 \r\nL 272.053977 55.667313 \r\nL 275.097614 58.151991 \r\nL 278.14125 60.775194 \r\nL 281.184886 63.539879 \r\nL 284.228523 66.449278 \r\nL 287.272159 69.506929 \r\nL 290.315795 72.716708 \r\nL 293.359432 76.082872 \r\nL 296.403068 79.610105 \r\nL 299.446705 83.303573 \r\nL 302.490341 87.168993 \r\nL 305.533977 91.212712 \r\nL 308.577614 95.441804 \r\nL 311.62125 99.864191 \r\nL 314.664886 104.488789 \r\nL 317.708523 109.325692 \r\nL 320.752159 114.386409 \r\nL 323.795795 119.684162 \r\nL 326.839432 125.234283 \r\nL 329.883068 131.054738 \r\nL 332.926705 137.166851 \r\nL 335.970341 143.59631 \r\nL 339.013977 150.374631 \r\nL 342.057614 157.541363 \r\nL 345.10125 165.147558 \r\nL 348.144886 173.261621 \r\nL 351.188523 181.979931 \r\nL 354.232159 191.44852 \r\nL 357.275795 201.915551 \r\nL 360.319432 213.903889 \r\nL 363.363068 229.874489 \r\n\" style=\"fill:none;stroke:#1f77b4;stroke-linecap:square;stroke-width:1.5;\"/>\r\n   </g>\r\n   <g id=\"patch_3\">\r\n    <path d=\"M 43.78125 239.758125 \r\nL 43.78125 22.318125 \r\n\" style=\"fill:none;stroke:#000000;stroke-linecap:square;stroke-linejoin:miter;stroke-width:0.8;\"/>\r\n   </g>\r\n   <g id=\"patch_4\">\r\n    <path d=\"M 378.58125 239.758125 \r\nL 378.58125 22.318125 \r\n\" style=\"fill:none;stroke:#000000;stroke-linecap:square;stroke-linejoin:miter;stroke-width:0.8;\"/>\r\n   </g>\r\n   <g id=\"patch_5\">\r\n    <path d=\"M 43.78125 239.758125 \r\nL 378.58125 239.758125 \r\n\" style=\"fill:none;stroke:#000000;stroke-linecap:square;stroke-linejoin:miter;stroke-width:0.8;\"/>\r\n   </g>\r\n   <g id=\"patch_6\">\r\n    <path d=\"M 43.78125 22.318125 \r\nL 378.58125 22.318125 \r\n\" style=\"fill:none;stroke:#000000;stroke-linecap:square;stroke-linejoin:miter;stroke-width:0.8;\"/>\r\n   </g>\r\n   <g id=\"text_14\">\r\n    <!-- Evolution de l entropie de Shannon de P = [p, 1 - p] -->\r\n    <g transform=\"translate(55.934063 16.318125)scale(0.12 -0.12)\">\r\n     <defs>\r\n      <path d=\"M 9.8125 72.90625 \r\nL 55.90625 72.90625 \r\nL 55.90625 64.59375 \r\nL 19.671875 64.59375 \r\nL 19.671875 43.015625 \r\nL 54.390625 43.015625 \r\nL 54.390625 34.71875 \r\nL 19.671875 34.71875 \r\nL 19.671875 8.296875 \r\nL 56.78125 8.296875 \r\nL 56.78125 0 \r\nL 9.8125 0 \r\nz\r\n\" id=\"DejaVuSans-69\"/>\r\n      <path d=\"M 2.984375 54.6875 \r\nL 12.5 54.6875 \r\nL 29.59375 8.796875 \r\nL 46.6875 54.6875 \r\nL 56.203125 54.6875 \r\nL 35.6875 0 \r\nL 23.484375 0 \r\nz\r\n\" id=\"DejaVuSans-118\"/>\r\n      <path d=\"M 9.421875 75.984375 \r\nL 18.40625 75.984375 \r\nL 18.40625 0 \r\nL 9.421875 0 \r\nz\r\n\" id=\"DejaVuSans-108\"/>\r\n      <path d=\"M 8.5 21.578125 \r\nL 8.5 54.6875 \r\nL 17.484375 54.6875 \r\nL 17.484375 21.921875 \r\nQ 17.484375 14.15625 20.5 10.265625 \r\nQ 23.53125 6.390625 29.59375 6.390625 \r\nQ 36.859375 6.390625 41.078125 11.03125 \r\nQ 45.3125 15.671875 45.3125 23.6875 \r\nL 45.3125 54.6875 \r\nL 54.296875 54.6875 \r\nL 54.296875 0 \r\nL 45.3125 0 \r\nL 45.3125 8.40625 \r\nQ 42.046875 3.421875 37.71875 1 \r\nQ 33.40625 -1.421875 27.6875 -1.421875 \r\nQ 18.265625 -1.421875 13.375 4.4375 \r\nQ 8.5 10.296875 8.5 21.578125 \r\nz\r\nM 31.109375 56 \r\nz\r\n\" id=\"DejaVuSans-117\"/>\r\n      <path d=\"M 18.3125 70.21875 \r\nL 18.3125 54.6875 \r\nL 36.8125 54.6875 \r\nL 36.8125 47.703125 \r\nL 18.3125 47.703125 \r\nL 18.3125 18.015625 \r\nQ 18.3125 11.328125 20.140625 9.421875 \r\nQ 21.96875 7.515625 27.59375 7.515625 \r\nL 36.8125 7.515625 \r\nL 36.8125 0 \r\nL 27.59375 0 \r\nQ 17.1875 0 13.234375 3.875 \r\nQ 9.28125 7.765625 9.28125 18.015625 \r\nL 9.28125 47.703125 \r\nL 2.6875 47.703125 \r\nL 2.6875 54.6875 \r\nL 9.28125 54.6875 \r\nL 9.28125 70.21875 \r\nz\r\n\" id=\"DejaVuSans-116\"/>\r\n      <path d=\"M 9.421875 54.6875 \r\nL 18.40625 54.6875 \r\nL 18.40625 0 \r\nL 9.421875 0 \r\nz\r\nM 9.421875 75.984375 \r\nL 18.40625 75.984375 \r\nL 18.40625 64.59375 \r\nL 9.421875 64.59375 \r\nz\r\n\" id=\"DejaVuSans-105\"/>\r\n      <path d=\"M 45.40625 46.390625 \r\nL 45.40625 75.984375 \r\nL 54.390625 75.984375 \r\nL 54.390625 0 \r\nL 45.40625 0 \r\nL 45.40625 8.203125 \r\nQ 42.578125 3.328125 38.25 0.953125 \r\nQ 33.9375 -1.421875 27.875 -1.421875 \r\nQ 17.96875 -1.421875 11.734375 6.484375 \r\nQ 5.515625 14.40625 5.515625 27.296875 \r\nQ 5.515625 40.1875 11.734375 48.09375 \r\nQ 17.96875 56 27.875 56 \r\nQ 33.9375 56 38.25 53.625 \r\nQ 42.578125 51.265625 45.40625 46.390625 \r\nz\r\nM 14.796875 27.296875 \r\nQ 14.796875 17.390625 18.875 11.75 \r\nQ 22.953125 6.109375 30.078125 6.109375 \r\nQ 37.203125 6.109375 41.296875 11.75 \r\nQ 45.40625 17.390625 45.40625 27.296875 \r\nQ 45.40625 37.203125 41.296875 42.84375 \r\nQ 37.203125 48.484375 30.078125 48.484375 \r\nQ 22.953125 48.484375 18.875 42.84375 \r\nQ 14.796875 37.203125 14.796875 27.296875 \r\nz\r\n\" id=\"DejaVuSans-100\"/>\r\n      <path d=\"M 56.203125 29.59375 \r\nL 56.203125 25.203125 \r\nL 14.890625 25.203125 \r\nQ 15.484375 15.921875 20.484375 11.0625 \r\nQ 25.484375 6.203125 34.421875 6.203125 \r\nQ 39.59375 6.203125 44.453125 7.46875 \r\nQ 49.3125 8.734375 54.109375 11.28125 \r\nL 54.109375 2.78125 \r\nQ 49.265625 0.734375 44.1875 -0.34375 \r\nQ 39.109375 -1.421875 33.890625 -1.421875 \r\nQ 20.796875 -1.421875 13.15625 6.1875 \r\nQ 5.515625 13.8125 5.515625 26.8125 \r\nQ 5.515625 40.234375 12.765625 48.109375 \r\nQ 20.015625 56 32.328125 56 \r\nQ 43.359375 56 49.78125 48.890625 \r\nQ 56.203125 41.796875 56.203125 29.59375 \r\nz\r\nM 47.21875 32.234375 \r\nQ 47.125 39.59375 43.09375 43.984375 \r\nQ 39.0625 48.390625 32.421875 48.390625 \r\nQ 24.90625 48.390625 20.390625 44.140625 \r\nQ 15.875 39.890625 15.1875 32.171875 \r\nz\r\n\" id=\"DejaVuSans-101\"/>\r\n      <path d=\"M 41.109375 46.296875 \r\nQ 39.59375 47.171875 37.8125 47.578125 \r\nQ 36.03125 48 33.890625 48 \r\nQ 26.265625 48 22.1875 43.046875 \r\nQ 18.109375 38.09375 18.109375 28.8125 \r\nL 18.109375 0 \r\nL 9.078125 0 \r\nL 9.078125 54.6875 \r\nL 18.109375 54.6875 \r\nL 18.109375 46.1875 \r\nQ 20.953125 51.171875 25.484375 53.578125 \r\nQ 30.03125 56 36.53125 56 \r\nQ 37.453125 56 38.578125 55.875 \r\nQ 39.703125 55.765625 41.0625 55.515625 \r\nz\r\n\" id=\"DejaVuSans-114\"/>\r\n      <path d=\"M 53.515625 70.515625 \r\nL 53.515625 60.890625 \r\nQ 47.90625 63.578125 42.921875 64.890625 \r\nQ 37.9375 66.21875 33.296875 66.21875 \r\nQ 25.25 66.21875 20.875 63.09375 \r\nQ 16.5 59.96875 16.5 54.203125 \r\nQ 16.5 49.359375 19.40625 46.890625 \r\nQ 22.3125 44.4375 30.421875 42.921875 \r\nL 36.375 41.703125 \r\nQ 47.40625 39.59375 52.65625 34.296875 \r\nQ 57.90625 29 57.90625 20.125 \r\nQ 57.90625 9.515625 50.796875 4.046875 \r\nQ 43.703125 -1.421875 29.984375 -1.421875 \r\nQ 24.8125 -1.421875 18.96875 -0.25 \r\nQ 13.140625 0.921875 6.890625 3.21875 \r\nL 6.890625 13.375 \r\nQ 12.890625 10.015625 18.65625 8.296875 \r\nQ 24.421875 6.59375 29.984375 6.59375 \r\nQ 38.421875 6.59375 43.015625 9.90625 \r\nQ 47.609375 13.234375 47.609375 19.390625 \r\nQ 47.609375 24.75 44.3125 27.78125 \r\nQ 41.015625 30.8125 33.5 32.328125 \r\nL 27.484375 33.5 \r\nQ 16.453125 35.6875 11.515625 40.375 \r\nQ 6.59375 45.0625 6.59375 53.421875 \r\nQ 6.59375 63.09375 13.40625 68.65625 \r\nQ 20.21875 74.21875 32.171875 74.21875 \r\nQ 37.3125 74.21875 42.625 73.28125 \r\nQ 47.953125 72.359375 53.515625 70.515625 \r\nz\r\n\" id=\"DejaVuSans-83\"/>\r\n      <path d=\"M 19.671875 64.796875 \r\nL 19.671875 37.40625 \r\nL 32.078125 37.40625 \r\nQ 38.96875 37.40625 42.71875 40.96875 \r\nQ 46.484375 44.53125 46.484375 51.125 \r\nQ 46.484375 57.671875 42.71875 61.234375 \r\nQ 38.96875 64.796875 32.078125 64.796875 \r\nz\r\nM 9.8125 72.90625 \r\nL 32.078125 72.90625 \r\nQ 44.34375 72.90625 50.609375 67.359375 \r\nQ 56.890625 61.8125 56.890625 51.125 \r\nQ 56.890625 40.328125 50.609375 34.8125 \r\nQ 44.34375 29.296875 32.078125 29.296875 \r\nL 19.671875 29.296875 \r\nL 19.671875 0 \r\nL 9.8125 0 \r\nz\r\n\" id=\"DejaVuSans-80\"/>\r\n      <path d=\"M 10.59375 45.40625 \r\nL 73.1875 45.40625 \r\nL 73.1875 37.203125 \r\nL 10.59375 37.203125 \r\nz\r\nM 10.59375 25.484375 \r\nL 73.1875 25.484375 \r\nL 73.1875 17.1875 \r\nL 10.59375 17.1875 \r\nz\r\n\" id=\"DejaVuSans-61\"/>\r\n     </defs>\r\n     <use xlink:href=\"#DejaVuSans-69\"/>\r\n     <use x=\"63.183594\" xlink:href=\"#DejaVuSans-118\"/>\r\n     <use x=\"122.363281\" xlink:href=\"#DejaVuSans-111\"/>\r\n     <use x=\"183.544922\" xlink:href=\"#DejaVuSans-108\"/>\r\n     <use x=\"211.328125\" xlink:href=\"#DejaVuSans-117\"/>\r\n     <use x=\"274.707031\" xlink:href=\"#DejaVuSans-116\"/>\r\n     <use x=\"313.916016\" xlink:href=\"#DejaVuSans-105\"/>\r\n     <use x=\"341.699219\" xlink:href=\"#DejaVuSans-111\"/>\r\n     <use x=\"402.880859\" xlink:href=\"#DejaVuSans-110\"/>\r\n     <use x=\"466.259766\" xlink:href=\"#DejaVuSans-32\"/>\r\n     <use x=\"498.046875\" xlink:href=\"#DejaVuSans-100\"/>\r\n     <use x=\"561.523438\" xlink:href=\"#DejaVuSans-101\"/>\r\n     <use x=\"623.046875\" xlink:href=\"#DejaVuSans-32\"/>\r\n     <use x=\"654.833984\" xlink:href=\"#DejaVuSans-108\"/>\r\n     <use x=\"682.617188\" xlink:href=\"#DejaVuSans-32\"/>\r\n     <use x=\"714.404297\" xlink:href=\"#DejaVuSans-101\"/>\r\n     <use x=\"775.927734\" xlink:href=\"#DejaVuSans-110\"/>\r\n     <use x=\"839.306641\" xlink:href=\"#DejaVuSans-116\"/>\r\n     <use x=\"878.515625\" xlink:href=\"#DejaVuSans-114\"/>\r\n     <use x=\"917.378906\" xlink:href=\"#DejaVuSans-111\"/>\r\n     <use x=\"978.560547\" xlink:href=\"#DejaVuSans-112\"/>\r\n     <use x=\"1042.037109\" xlink:href=\"#DejaVuSans-105\"/>\r\n     <use x=\"1069.820312\" xlink:href=\"#DejaVuSans-101\"/>\r\n     <use x=\"1131.34375\" xlink:href=\"#DejaVuSans-32\"/>\r\n     <use x=\"1163.130859\" xlink:href=\"#DejaVuSans-100\"/>\r\n     <use x=\"1226.607422\" xlink:href=\"#DejaVuSans-101\"/>\r\n     <use x=\"1288.130859\" xlink:href=\"#DejaVuSans-32\"/>\r\n     <use x=\"1319.917969\" xlink:href=\"#DejaVuSans-83\"/>\r\n     <use x=\"1383.394531\" xlink:href=\"#DejaVuSans-104\"/>\r\n     <use x=\"1446.773438\" xlink:href=\"#DejaVuSans-97\"/>\r\n     <use x=\"1508.052734\" xlink:href=\"#DejaVuSans-110\"/>\r\n     <use x=\"1571.431641\" xlink:href=\"#DejaVuSans-110\"/>\r\n     <use x=\"1634.810547\" xlink:href=\"#DejaVuSans-111\"/>\r\n     <use x=\"1695.992188\" xlink:href=\"#DejaVuSans-110\"/>\r\n     <use x=\"1759.371094\" xlink:href=\"#DejaVuSans-32\"/>\r\n     <use x=\"1791.158203\" xlink:href=\"#DejaVuSans-100\"/>\r\n     <use x=\"1854.634766\" xlink:href=\"#DejaVuSans-101\"/>\r\n     <use x=\"1916.158203\" xlink:href=\"#DejaVuSans-32\"/>\r\n     <use x=\"1947.945312\" xlink:href=\"#DejaVuSans-80\"/>\r\n     <use x=\"2008.248047\" xlink:href=\"#DejaVuSans-32\"/>\r\n     <use x=\"2040.035156\" xlink:href=\"#DejaVuSans-61\"/>\r\n     <use x=\"2123.824219\" xlink:href=\"#DejaVuSans-32\"/>\r\n     <use x=\"2155.611328\" xlink:href=\"#DejaVuSans-91\"/>\r\n     <use x=\"2194.625\" xlink:href=\"#DejaVuSans-112\"/>\r\n     <use x=\"2258.101562\" xlink:href=\"#DejaVuSans-44\"/>\r\n     <use x=\"2289.888672\" xlink:href=\"#DejaVuSans-32\"/>\r\n     <use x=\"2321.675781\" xlink:href=\"#DejaVuSans-49\"/>\r\n     <use x=\"2385.298828\" xlink:href=\"#DejaVuSans-32\"/>\r\n     <use x=\"2417.085938\" xlink:href=\"#DejaVuSans-45\"/>\r\n     <use x=\"2453.169922\" xlink:href=\"#DejaVuSans-32\"/>\r\n     <use x=\"2484.957031\" xlink:href=\"#DejaVuSans-112\"/>\r\n     <use x=\"2548.433594\" xlink:href=\"#DejaVuSans-93\"/>\r\n    </g>\r\n   </g>\r\n  </g>\r\n </g>\r\n <defs>\r\n  <clipPath id=\"pa83a19d17a\">\r\n   <rect height=\"217.44\" width=\"334.8\" x=\"43.78125\" y=\"22.318125\"/>\r\n  </clipPath>\r\n </defs>\r\n</svg>\r\n",
      "image/png": "[encoded data removed]"
     },
     "metadata": {
      "needs_background": "light"
     }
    }
   ],
   "source": [
    "values_HsP = list()\n",
    "pas_d_evo = 1 / 100\n",
    "i = 0\n",
    "\n",
    "while ((1 - (pas_d_evo * i)) >= 0) :\n",
    "    p = 1 - (pas_d_evo * i)\n",
    "    values_HsP.append(shannon([p, 1 - p]))\n",
    "    i = i + 1\n",
    "values_HsP = np.array(values_HsP)\n",
    "\n",
    "plt.figure()\n",
    "plt.plot(values_HsP)\n",
    "plt.title('Evolution de l entropie de Shannon de P = [p, 1 - p]')\n",
    "plt.ylabel('shannon([p, 1-p])')"
   ]
  },
  {
   "cell_type": "markdown",
   "metadata": {},
   "source": [
    "<font color=\"RED\" size=\"+1\">**[Q]**</font> A l'aide de la fonction <code>shannon</code>, écrire la fonction <code>entropie</code> qui prend un ensemble de labels en argument et renvoie l'entropie de la distribution des classes dans cet ensemble."
   ]
  },
  {
   "cell_type": "code",
   "execution_count": 14,
   "metadata": {},
   "outputs": [],
   "source": [
    "def entropie(Y):\n",
    "    \"\"\" Y : (array) : ensemble de labels de classe\n",
    "        rend l'entropie de l'ensemble Y\n",
    "    \"\"\"\n",
    "    _, effectif = np.unique(Y,return_counts=True)\n",
    "    \n",
    "    P = np.asarray([(e / len(Y)) for e in effectif])\n",
    "    \n",
    "    return shannon(P)"
   ]
  },
  {
   "cell_type": "code",
   "execution_count": 15,
   "metadata": {},
   "outputs": [
    {
     "output_type": "execute_result",
     "data": {
      "text/plain": [
       "0.9544340029249649"
      ]
     },
     "metadata": {},
     "execution_count": 15
    }
   ],
   "source": [
    "# Exemple sur nos données :\n",
    "entropie(elections_label)"
   ]
  },
  {
   "cell_type": "markdown",
   "metadata": {},
   "source": [
    "## Arbres de décision\n",
    "\n",
    "Dans cette partie, on réalise l'implémentation de l'algorithme de construction d'un arbre de décision."
   ]
  },
  {
   "cell_type": "markdown",
   "metadata": {},
   "source": [
    "### Représentation d'un arbre en Python"
   ]
  },
  {
   "cell_type": "markdown",
   "metadata": {},
   "source": [
    "Pour représenter un arbre en Python, on a besoin de définir une structure de données adéquate. \n",
    "\n",
    "Un arbre de décision est défini par des **noeuds** qui sont de 2 types :\n",
    "- *noeud interne* : c'est un noeud qui est associé à un attribut (ie. une feature de description des exemples) et qui possède des fils qui sont aussi des noeuds. \n",
    "- *feuille* : c'est un noeud qui est associé à un label de la classe et qui a la particularité de ne pas avoir de descendants.\n",
    "\n",
    "Pour représenter des noeuds, nous définissons la classe `NoeudCategoriel` suivante:"
   ]
  },
  {
   "cell_type": "code",
   "execution_count": 16,
   "metadata": {},
   "outputs": [],
   "source": [
    "# Avant cela, la librairie suivante est nécessaire pour l'affichage graphique de l'arbre:\n",
    "import graphviz as gv\n",
    "\n",
    "# Pour plus de détails : https://graphviz.readthedocs.io/en/stable/manual.html\n",
    "\n",
    "# Eventuellement, il peut être nécessaire d'installer graphviz sur votre compte:\n",
    "# pip install --user --install-option=\"--prefix=\" -U graphviz\n"
   ]
  },
  {
   "cell_type": "code",
   "execution_count": 17,
   "metadata": {},
   "outputs": [],
   "source": [
    "class NoeudCategoriel:\n",
    "    \"\"\" Classe pour représenter des noeuds d'un arbre de décision\n",
    "    \"\"\"\n",
    "    def __init__(self, num_att=-1, nom=''):\n",
    "        \"\"\" Constructeur: il prend en argument\n",
    "            - num_att (int) : le numéro de l'attribut auquel il se rapporte: de 0 à ...\n",
    "              si le noeud se rapporte à la classe, le numéro est -1, on n'a pas besoin\n",
    "              de le préciser\n",
    "            - nom (str) : une chaîne de caractères donnant le nom de l'attribut si\n",
    "              il est connu (sinon, on ne met rien et le nom sera donné de façon \n",
    "              générique: \"att_Numéro\")\n",
    "        \"\"\"\n",
    "        self.attribut = num_att    # numéro de l'attribut\n",
    "        if (nom == ''):            # son nom si connu\n",
    "            self.nom_attribut = 'att_'+str(num_att)\n",
    "        else:\n",
    "            self.nom_attribut = nom \n",
    "        self.Les_fils = None       # aucun fils à la création, ils seront ajoutés\n",
    "        self.classe   = None       # valeur de la classe si c'est une feuille\n",
    "        \n",
    "    def est_feuille(self):\n",
    "        \"\"\" rend True si l'arbre est une feuille \n",
    "            c'est une feuille s'il n'a aucun fils\n",
    "        \"\"\"\n",
    "        return self.Les_fils == None\n",
    "    \n",
    "    def ajoute_fils(self, valeur, Fils):\n",
    "        \"\"\" valeur : valeur de l'attribut de ce noeud qui doit être associée à Fils\n",
    "                     le type de cette valeur dépend de la base\n",
    "            Fils (NoeudCategoriel) : un nouveau fils pour ce noeud\n",
    "            Les fils sont stockés sous la forme d'un dictionnaire:\n",
    "            Dictionnaire {valeur_attribut : NoeudCategoriel}\n",
    "        \"\"\"\n",
    "        if self.Les_fils == None:\n",
    "            self.Les_fils = dict()\n",
    "        self.Les_fils[valeur] = Fils\n",
    "        # Rem: attention, on ne fait aucun contrôle, la nouvelle association peut\n",
    "        # écraser une association existante.\n",
    "    \n",
    "    def ajoute_feuille(self,classe):\n",
    "        \"\"\" classe: valeur de la classe\n",
    "            Ce noeud devient un noeud feuille\n",
    "        \"\"\"\n",
    "        self.classe    = classe\n",
    "        self.Les_fils  = None   # normalement, pas obligatoire ici, c'est pour être sûr\n",
    "        \n",
    "    def classifie(self, exemple):\n",
    "        \"\"\" exemple : numpy.array\n",
    "            rend la classe de l'exemple (pour nous, soit +1, soit -1 en général)\n",
    "            on rend la valeur 0 si l'exemple ne peut pas être classé (cf. les questions\n",
    "            posées en fin de ce notebook)\n",
    "        \"\"\"\n",
    "        if self.est_feuille():\n",
    "            return self.classe\n",
    "        if exemple[self.attribut] in self.Les_fils:\n",
    "            # descente récursive dans le noeud associé à la valeur de l'attribut\n",
    "            # pour cet exemple:\n",
    "            return self.Les_fils[exemple[self.attribut]].classifie(exemple)\n",
    "        else:\n",
    "            # Cas particulier : on ne trouve pas la valeur de l'exemple dans la liste des\n",
    "            # fils du noeud... Voir la fin de ce notebook pour essayer de résoudre ce mystère...\n",
    "            print('\\t*** Warning: attribut ',self.nom_attribut,' -> Valeur inconnue: ',exemple[self.attribut])\n",
    "            return 0\n",
    "    \n",
    "    def to_graph(self, g, prefixe='A'):\n",
    "        \"\"\" construit une représentation de l'arbre pour pouvoir l'afficher graphiquement\n",
    "            Cette fonction ne nous intéressera pas plus que ça, elle ne sera donc pas expliquée            \n",
    "        \"\"\"\n",
    "        if self.est_feuille():\n",
    "            g.node(prefixe,str(self.classe),shape='box')\n",
    "        else:\n",
    "            g.node(prefixe, self.nom_attribut)\n",
    "            i =0\n",
    "            for (valeur, sous_arbre) in self.Les_fils.items():\n",
    "                sous_arbre.to_graph(g,prefixe+str(i))\n",
    "                g.edge(prefixe,prefixe+str(i), valeur)\n",
    "                i = i+1        \n",
    "        return g\n"
   ]
  },
  {
   "cell_type": "code",
   "execution_count": 18,
   "metadata": {},
   "outputs": [
    {
     "output_type": "execute_result",
     "data": {
      "text/plain": [
       "<graphviz.dot.Digraph at 0x24d8caf3a90>"
      ],
      "image/svg+xml": "<?xml version=\"1.0\" encoding=\"UTF-8\" standalone=\"no\"?>\r\n<!DOCTYPE svg PUBLIC \"-//W3C//DTD SVG 1.1//EN\"\r\n \"http://www.w3.org/Graphics/SVG/1.1/DTD/svg11.dtd\">\r\n<!-- Generated by graphviz version 2.44.2~dev.20201112.1525 (20201112.1525)\r\n -->\r\n<!-- Pages: 1 -->\r\n<svg width=\"134pt\" height=\"218pt\"\r\n viewBox=\"0.00 0.00 134.00 218.00\" xmlns=\"http://www.w3.org/2000/svg\" xmlns:xlink=\"http://www.w3.org/1999/xlink\">\r\n<g id=\"graph0\" class=\"graph\" transform=\"scale(1 1) rotate(0) translate(4 214)\">\r\n<polygon fill=\"white\" stroke=\"transparent\" points=\"-4,4 -4,-214 130,-214 130,4 -4,4\"/>\r\n<!-- A -->\r\n<g id=\"node1\" class=\"node\">\r\n<title>A</title>\r\n<ellipse fill=\"none\" stroke=\"black\" cx=\"63\" cy=\"-192\" rx=\"31.4\" ry=\"18\"/>\r\n<text text-anchor=\"middle\" x=\"63\" y=\"-188.3\" font-family=\"Times New Roman,serif\" font-size=\"14.00\">nom3</text>\r\n</g>\r\n<!-- A0 -->\r\n<g id=\"node2\" class=\"node\">\r\n<title>A0</title>\r\n<ellipse fill=\"none\" stroke=\"black\" cx=\"63\" cy=\"-105\" rx=\"31.4\" ry=\"18\"/>\r\n<text text-anchor=\"middle\" x=\"63\" y=\"-101.3\" font-family=\"Times New Roman,serif\" font-size=\"14.00\">nom2</text>\r\n</g>\r\n<!-- A&#45;&gt;A0 -->\r\n<g id=\"edge3\" class=\"edge\">\r\n<title>A:&#45;&gt;A0:</title>\r\n<path fill=\"none\" stroke=\"black\" d=\"M63,-173.8C63,-162.16 63,-146.55 63,-133.24\"/>\r\n<polygon fill=\"black\" stroke=\"black\" points=\"66.5,-133.18 63,-123.18 59.5,-133.18 66.5,-133.18\"/>\r\n<text text-anchor=\"middle\" x=\"74.5\" y=\"-144.8\" font-family=\"Times New Roman,serif\" font-size=\"14.00\">val3</text>\r\n</g>\r\n<!-- A00 -->\r\n<g id=\"node3\" class=\"node\">\r\n<title>A00</title>\r\n<polygon fill=\"none\" stroke=\"black\" points=\"54,-36 0,-36 0,0 54,0 54,-36\"/>\r\n<text text-anchor=\"middle\" x=\"27\" y=\"-14.3\" font-family=\"Times New Roman,serif\" font-size=\"14.00\">&#45;1</text>\r\n</g>\r\n<!-- A0&#45;&gt;A00 -->\r\n<g id=\"edge1\" class=\"edge\">\r\n<title>A0:&#45;&gt;A00:</title>\r\n<path fill=\"none\" stroke=\"black\" d=\"M55.89,-87.21C50.84,-75.29 43.97,-59.06 38.19,-45.42\"/>\r\n<polygon fill=\"black\" stroke=\"black\" points=\"41.34,-43.89 34.22,-36.05 34.9,-46.62 41.34,-43.89\"/>\r\n<text text-anchor=\"middle\" x=\"59.5\" y=\"-57.8\" font-family=\"Times New Roman,serif\" font-size=\"14.00\">val1</text>\r\n</g>\r\n<!-- A01 -->\r\n<g id=\"node4\" class=\"node\">\r\n<title>A01</title>\r\n<polygon fill=\"none\" stroke=\"black\" points=\"126,-36 72,-36 72,0 126,0 126,-36\"/>\r\n<text text-anchor=\"middle\" x=\"99\" y=\"-14.3\" font-family=\"Times New Roman,serif\" font-size=\"14.00\">1</text>\r\n</g>\r\n<!-- A0&#45;&gt;A01 -->\r\n<g id=\"edge2\" class=\"edge\">\r\n<title>A0:&#45;&gt;A01:</title>\r\n<path fill=\"none\" stroke=\"black\" d=\"M70.11,-87.21C75.16,-75.29 82.03,-59.06 87.81,-45.42\"/>\r\n<polygon fill=\"black\" stroke=\"black\" points=\"91.1,-46.62 91.78,-36.05 84.66,-43.89 91.1,-46.62\"/>\r\n<text text-anchor=\"middle\" x=\"94.5\" y=\"-57.8\" font-family=\"Times New Roman,serif\" font-size=\"14.00\">val2</text>\r\n</g>\r\n</g>\r\n</svg>\r\n"
     },
     "metadata": {},
     "execution_count": 18
    }
   ],
   "source": [
    "# Exemple d'utilisation: \n",
    "un_noeud0= NoeudCategoriel() \n",
    "un_noeud0.ajoute_feuille(-1)\n",
    "\n",
    "un_noeud1= NoeudCategoriel()\n",
    "un_noeud1.ajoute_feuille(+1)\n",
    "\n",
    "un_noeud2= NoeudCategoriel(0,\"nom2\")\n",
    "un_noeud2.ajoute_fils(\"val1\",un_noeud0)\n",
    "un_noeud2.ajoute_fils(\"val2\",un_noeud1)\n",
    "\n",
    "un_noeud3 = NoeudCategoriel(1,\"nom3\")\n",
    "un_noeud3.ajoute_fils(\"val3\",un_noeud2)\n",
    "\n",
    "# L'affichage se fait en 2 temps\n",
    "# 1) on initialise un graphe orienté :\n",
    "gtree = gv.Digraph(format='png')\n",
    "# 2) on le rempli en appelant la méthode de la classe NoeudCategoriel\n",
    "un_noeud3.to_graph(gtree)"
   ]
  },
  {
   "cell_type": "markdown",
   "metadata": {},
   "source": [
    "### Construction de l'arbre de décision"
   ]
  },
  {
   "cell_type": "markdown",
   "metadata": {},
   "source": [
    "Comme on l'a vu dans le cours, pour construire un arbre de décision à partir d'un dataset ($X$, $Y$), il faut réaliser les étapes suivantes:\n",
    "1. calculer l'entropie de Shannon de l'ensemble des classes $Y$, on la note $H_S(Y)$.\n",
    "2. si $H_S(Y)$ est inférieure à epsilon (qui est un réel positif donné en paramètre de l'algorithme), alors construire une feuille avec cet ensemble, la classe associée à cette feuille est la classe majoritaire dans $Y$.\n",
    "3. sinon, pour chaque attribut $X_j$ qui décrit les exemples de $X$,\n",
    "    - 3.1. pour chacune des valeurs $v_{jl}$ de $X_j$ construire l'ensemble des exemples de $X$ qui possède la valeur $v_{jl}$ ainsi que l'ensemble de leurs labels.\n",
    "    - 3.2. calculer l'entropie conditionnelle de Shannon de la classe relativement à l'attribut $X_j$. On note $H_S(Y|X_j)$ cette entropie.\n",
    "4. l'attribut $X_{best}$ qui **maximise le gain d'information** est choisi pour constituer un nouveau noeud $\\eta$ de l'arbre de décision:\n",
    "    - 4.1. chaque valeur de $X_{best}$ est utilisée pour décomposer ($X$, $Y$) en autant de datasets que $X_{best}$ possède de valeurs: chaque dataset est séparant $X$ et $Y$ selon la valeur prise pour $X_{best}$. \n",
    "    - 4.2. pour chaque dataset obtenu on reprend en 1 pour construire chacun des fils de $\\eta$. \n",
    "\n",
    "\n",
    "On rappelle que le gain d'information est:\n",
    "\n",
    "$$I_S(X_j,Y) = H_S(Y) - H_S(Y|X_j)$$\n",
    "\n"
   ]
  },
  {
   "cell_type": "markdown",
   "metadata": {},
   "source": [
    "<font color=\"RED\" size=\"+1\">**[Q]**</font> Compléter la fonction `construit_AD`suivante afin qu'elle permette de construire un arbre de décision. Cette fonction rend un `NoeudCategoriel` qui correspond à l'arbre construit pour le dataset $(X,Y)$ donné."
   ]
  },
  {
   "cell_type": "code",
   "execution_count": 19,
   "metadata": {},
   "outputs": [],
   "source": [
    "def construit_AD(X,Y,epsilon,LNoms = []):\n",
    "    \"\"\" X,Y : dataset\n",
    "        epsilon : seuil d'entropie pour le critère d'arrêt \n",
    "        LNoms : liste des noms de features (colonnes) de description \n",
    "    \"\"\"\n",
    "    entropie_ens = entropie(Y)\n",
    "    \n",
    "    if (entropie_ens <= epsilon):\n",
    "        # ARRET : on crée une feuille\n",
    "        noeud = NoeudCategoriel(-1,\"Label\")\n",
    "        noeud.ajoute_feuille(classe_majoritaire(Y))\n",
    "    else:\n",
    "        min_entropie = 1.1\n",
    "        i_best = -1\n",
    "        Xbest_valeurs = None\n",
    "        \n",
    "        #############\n",
    "        \n",
    "        # COMPLETER CETTE PARTIE : ELLE DOIT PERMETTRE D'OBTENIR DANS\n",
    "        # i_best : le numéro de l'attribut qui minimise l'entropie\n",
    "        # min_entropie : la valeur de l'entropie minimale\n",
    "        # Xbest_valeurs : la liste des valeurs que peut prendre l'attribut i_best\n",
    "        #\n",
    "        # Il est donc nécessaire ici de parcourir tous les attributs et de calculer\n",
    "        # la valeur de l'entropie de la classe pour chaque attribut.\n",
    "        \n",
    "        for i in range(len(X[0])) :\n",
    "            att = X[:,i]\n",
    "            values_x, effectif = np.unique(att, return_counts=True)\n",
    "            values_y = []\n",
    "            \n",
    "            for j in range(len(values_x)) :\n",
    "                p = effectif[j] / len(att) \n",
    "                values_y.append(p * entropie(Y[X[:,i] == values_x[j]])) \n",
    "                \n",
    "            entropie_cond = sum(values_y)\n",
    "            \n",
    "            if (entropie_cond < min_entropie) :\n",
    "                min_entropie = entropie_cond\n",
    "                i_best = i\n",
    "                Xbest_valeurs = values_x\n",
    "        \n",
    "         ############\n",
    "        \n",
    "        if len(LNoms)>0: \n",
    "            noeud = NoeudCategoriel(i_best,LNoms[i_best])    \n",
    "        else:\n",
    "            noeud = NoeudCategoriel(i_best)\n",
    "        for v in Xbest_valeurs:\n",
    "            noeud.ajoute_fils(v,construit_AD(X[X[:,i_best]==v], Y[X[:,i_best]==v],epsilon,LNoms))\n",
    "    return noeud"
   ]
  },
  {
   "cell_type": "markdown",
   "metadata": {},
   "source": [
    "La classe pour implémenter un arbre de décision dérive de la classe `Classifier`. Elle utilise la fonction `construit_AD` dans sa méthode `train` pour construire un arbre à partir d'un dataset donné.\n",
    "\n",
    "<font color=\"RED\" size=\"+1\">**[Q]**</font> Compléter la classe suivante en donnant le code des méthodes `train` et `predict`.\n",
    "\n",
    "**Remarque :** la méthode `score` ne fera rien dans notre cas, on verra dans un autre notebook comment on pourrait la définir."
   ]
  },
  {
   "cell_type": "code",
   "execution_count": 20,
   "metadata": {},
   "outputs": [],
   "source": [
    "class ClassifierArbreDecision(cl.Classifier):\n",
    "    \"\"\" Classe pour représenter un classifieur par arbre de décision\n",
    "    \"\"\"\n",
    "    \n",
    "    def __init__(self, input_dimension, epsilon, LNoms=[]):\n",
    "        \"\"\" Constructeur\n",
    "            Argument:\n",
    "                - intput_dimension (int) : dimension de la description des exemples\n",
    "                - epsilon (float) : paramètre de l'algorithme (cf. explications précédentes)\n",
    "                - LNoms : Liste des noms de dimensions (si connues)\n",
    "            Hypothèse : input_dimension > 0\n",
    "        \"\"\"\n",
    "        self.dimension = input_dimension\n",
    "        self.epsilon = epsilon\n",
    "        self.LNoms = LNoms\n",
    "        self.racine = None\n",
    "        \n",
    "    def toString(self):\n",
    "        \"\"\"  -> str\n",
    "            rend le nom du classifieur avec ses paramètres\n",
    "        \"\"\"\n",
    "        return 'ClassifierArbreDecision ['+str(self.dimension) + '] eps='+str(self.epsilon)\n",
    "        \n",
    "    def train(self, desc_set, label_set):\n",
    "        \"\"\" Permet d'entrainer le modele sur l'ensemble donné\n",
    "            desc_set: ndarray avec des descriptions\n",
    "            label_set: ndarray avec les labels correspondants\n",
    "            Hypothèse: desc_set et label_set ont le même nombre de lignes\n",
    "        \"\"\"        \n",
    "        epsilon = 0.5\n",
    "        self.racine = construit_AD(desc_set, label_set, epsilon)\n",
    "    \n",
    "    def score(self,x):\n",
    "        \"\"\" rend le score de prédiction sur x (valeur réelle)\n",
    "            x: une description\n",
    "        \"\"\"\n",
    "        # cette méthode ne fait rien dans notre implémentation :\n",
    "        pass\n",
    "    \n",
    "    def predict(self, x):\n",
    "        \"\"\" x (array): une description d'exemple\n",
    "            rend la prediction sur x             \n",
    "        \"\"\"\n",
    "        return self.racine.classifie(x)\n",
    "\n",
    "    def affiche(self,GTree):\n",
    "        \"\"\" affichage de l'arbre sous forme graphique\n",
    "            Cette fonction modifie GTree par effet de bord\n",
    "        \"\"\"\n",
    "        self.racine.to_graph(GTree)"
   ]
  },
  {
   "cell_type": "markdown",
   "metadata": {},
   "source": [
    "### Premières expérimentations"
   ]
  },
  {
   "cell_type": "markdown",
   "metadata": {},
   "source": [
    "Apprentissage d'un arbre de décision avec la base sur les élections :"
   ]
  },
  {
   "cell_type": "code",
   "execution_count": 21,
   "metadata": {
    "scrolled": false
   },
   "outputs": [
    {
     "output_type": "stream",
     "name": "stdout",
     "text": [
      "Noms des features:  ['Adresse', 'Majeur?', 'Nationalite']\n"
     ]
    },
    {
     "output_type": "execute_result",
     "data": {
      "text/plain": [
       "<graphviz.dot.Digraph at 0x24d8caf30d0>"
      ],
      "image/svg+xml": "<?xml version=\"1.0\" encoding=\"UTF-8\" standalone=\"no\"?>\r\n<!DOCTYPE svg PUBLIC \"-//W3C//DTD SVG 1.1//EN\"\r\n \"http://www.w3.org/Graphics/SVG/1.1/DTD/svg11.dtd\">\r\n<!-- Generated by graphviz version 2.44.2~dev.20201112.1525 (20201112.1525)\r\n -->\r\n<!-- Pages: 1 -->\r\n<svg width=\"208pt\" height=\"218pt\"\r\n viewBox=\"0.00 0.00 208.00 218.00\" xmlns=\"http://www.w3.org/2000/svg\" xmlns:xlink=\"http://www.w3.org/1999/xlink\">\r\n<g id=\"graph0\" class=\"graph\" transform=\"scale(1 1) rotate(0) translate(4 214)\">\r\n<polygon fill=\"white\" stroke=\"transparent\" points=\"-4,4 -4,-214 204,-214 204,4 -4,4\"/>\r\n<!-- A -->\r\n<g id=\"node1\" class=\"node\">\r\n<title>A</title>\r\n<ellipse fill=\"none\" stroke=\"black\" cx=\"49\" cy=\"-192\" rx=\"28.7\" ry=\"18\"/>\r\n<text text-anchor=\"middle\" x=\"49\" y=\"-188.3\" font-family=\"Times New Roman,serif\" font-size=\"14.00\">att_1</text>\r\n</g>\r\n<!-- A0 -->\r\n<g id=\"node2\" class=\"node\">\r\n<title>A0</title>\r\n<polygon fill=\"none\" stroke=\"black\" points=\"54,-123 0,-123 0,-87 54,-87 54,-123\"/>\r\n<text text-anchor=\"middle\" x=\"27\" y=\"-101.3\" font-family=\"Times New Roman,serif\" font-size=\"14.00\">&#45;1</text>\r\n</g>\r\n<!-- A&#45;&gt;A0 -->\r\n<g id=\"edge1\" class=\"edge\">\r\n<title>A:&#45;&gt;A0:</title>\r\n<path fill=\"none\" stroke=\"black\" d=\"M44.65,-174.21C41.6,-162.41 37.45,-146.38 33.94,-132.82\"/>\r\n<polygon fill=\"black\" stroke=\"black\" points=\"37.31,-131.85 31.41,-123.05 30.53,-133.61 37.31,-131.85\"/>\r\n<text text-anchor=\"middle\" x=\"51\" y=\"-144.8\" font-family=\"Times New Roman,serif\" font-size=\"14.00\">non</text>\r\n</g>\r\n<!-- A1 -->\r\n<g id=\"node3\" class=\"node\">\r\n<title>A1</title>\r\n<ellipse fill=\"none\" stroke=\"black\" cx=\"101\" cy=\"-105\" rx=\"28.7\" ry=\"18\"/>\r\n<text text-anchor=\"middle\" x=\"101\" y=\"-101.3\" font-family=\"Times New Roman,serif\" font-size=\"14.00\">att_2</text>\r\n</g>\r\n<!-- A&#45;&gt;A1 -->\r\n<g id=\"edge5\" class=\"edge\">\r\n<title>A:&#45;&gt;A1:</title>\r\n<path fill=\"none\" stroke=\"black\" d=\"M58.78,-175.01C66.36,-162.63 77,-145.23 85.7,-131.01\"/>\r\n<polygon fill=\"black\" stroke=\"black\" points=\"88.85,-132.56 91.09,-122.21 82.88,-128.91 88.85,-132.56\"/>\r\n<text text-anchor=\"middle\" x=\"88\" y=\"-144.8\" font-family=\"Times New Roman,serif\" font-size=\"14.00\">oui</text>\r\n</g>\r\n<!-- A10 -->\r\n<g id=\"node4\" class=\"node\">\r\n<title>A10</title>\r\n<polygon fill=\"none\" stroke=\"black\" points=\"56,-36 2,-36 2,0 56,0 56,-36\"/>\r\n<text text-anchor=\"middle\" x=\"29\" y=\"-14.3\" font-family=\"Times New Roman,serif\" font-size=\"14.00\">1</text>\r\n</g>\r\n<!-- A1&#45;&gt;A10 -->\r\n<g id=\"edge2\" class=\"edge\">\r\n<title>A1:&#45;&gt;A10:</title>\r\n<path fill=\"none\" stroke=\"black\" d=\"M78.99,-93.16C68.75,-87.21 57.07,-78.99 49,-69 43.49,-62.17 39.33,-53.63 36.27,-45.55\"/>\r\n<polygon fill=\"black\" stroke=\"black\" points=\"39.59,-44.43 33.07,-36.07 32.95,-46.67 39.59,-44.43\"/>\r\n<text text-anchor=\"middle\" x=\"73\" y=\"-57.8\" font-family=\"Times New Roman,serif\" font-size=\"14.00\">Francais</text>\r\n</g>\r\n<!-- A11 -->\r\n<g id=\"node5\" class=\"node\">\r\n<title>A11</title>\r\n<polygon fill=\"none\" stroke=\"black\" points=\"128,-36 74,-36 74,0 128,0 128,-36\"/>\r\n<text text-anchor=\"middle\" x=\"101\" y=\"-14.3\" font-family=\"Times New Roman,serif\" font-size=\"14.00\">1</text>\r\n</g>\r\n<!-- A1&#45;&gt;A11 -->\r\n<g id=\"edge3\" class=\"edge\">\r\n<title>A1:&#45;&gt;A11:</title>\r\n<path fill=\"none\" stroke=\"black\" d=\"M101,-86.8C101,-75.16 101,-59.55 101,-46.24\"/>\r\n<polygon fill=\"black\" stroke=\"black\" points=\"104.5,-46.18 101,-36.18 97.5,-46.18 104.5,-46.18\"/>\r\n<text text-anchor=\"middle\" x=\"118\" y=\"-57.8\" font-family=\"Times New Roman,serif\" font-size=\"14.00\">Italien</text>\r\n</g>\r\n<!-- A12 -->\r\n<g id=\"node6\" class=\"node\">\r\n<title>A12</title>\r\n<polygon fill=\"none\" stroke=\"black\" points=\"200,-36 146,-36 146,0 200,0 200,-36\"/>\r\n<text text-anchor=\"middle\" x=\"173\" y=\"-14.3\" font-family=\"Times New Roman,serif\" font-size=\"14.00\">&#45;1</text>\r\n</g>\r\n<!-- A1&#45;&gt;A12 -->\r\n<g id=\"edge4\" class=\"edge\">\r\n<title>A1:&#45;&gt;A12:</title>\r\n<path fill=\"none\" stroke=\"black\" d=\"M117.69,-90.12C124.63,-83.98 132.56,-76.47 139,-69 145.38,-61.61 151.61,-52.99 156.96,-45.01\"/>\r\n<polygon fill=\"black\" stroke=\"black\" points=\"160.06,-46.66 162.58,-36.37 154.19,-42.84 160.06,-46.66\"/>\r\n<text text-anchor=\"middle\" x=\"168.5\" y=\"-57.8\" font-family=\"Times New Roman,serif\" font-size=\"14.00\">Suisse</text>\r\n</g>\r\n</g>\r\n</svg>\r\n"
     },
     "metadata": {},
     "execution_count": 21
    }
   ],
   "source": [
    "arbre_elections = ClassifierArbreDecision(len(elections_noms), 0.0, elections_noms)\n",
    "\n",
    "arbre_elections.train(elections_desc,elections_label)\n",
    "\n",
    "graphe_arbre_elections = gv.Digraph(format='png')\n",
    "arbre_elections.affiche(graphe_arbre_elections)\n",
    "\n",
    "print(\"Noms des features: \",elections_noms)\n",
    "graphe_arbre_elections"
   ]
  },
  {
   "cell_type": "markdown",
   "metadata": {},
   "source": [
    "Pour classer un nouvel exemple avec un arbre de décision, on utilise la méthode <code>predict</code> qui utilise la méthode `classifie` de la classe `NoeudCategoriel` pour classer un nouvel exemple et renvoyer le label +1 ou -1 selon le cas. \n",
    "\n",
    "Exemple de classification d'un exemple avec l'arbre obtenu :"
   ]
  },
  {
   "cell_type": "code",
   "execution_count": 22,
   "metadata": {},
   "outputs": [
    {
     "output_type": "execute_result",
     "data": {
      "text/plain": [
       "1"
      ]
     },
     "metadata": {},
     "execution_count": 22
    }
   ],
   "source": [
    "arbre_elections.predict(elections_desc[0,:])"
   ]
  },
  {
   "cell_type": "markdown",
   "metadata": {},
   "source": [
    "Classification d'un nouvel exemple qui n'appartient à pas au dataset d'apprentissage :"
   ]
  },
  {
   "cell_type": "code",
   "execution_count": 23,
   "metadata": {},
   "outputs": [
    {
     "output_type": "execute_result",
     "data": {
      "text/plain": [
       "1"
      ]
     },
     "metadata": {},
     "execution_count": 23
    }
   ],
   "source": [
    "# Rappel : elections_noms = ['Adresse', 'Majeur?', 'Nationalite']\n",
    "arbre_elections.predict(np.array(['Paris','oui','Italien']))"
   ]
  },
  {
   "cell_type": "markdown",
   "metadata": {},
   "source": [
    "Mesure de l'accuracy de l'arbre obtenu :"
   ]
  },
  {
   "cell_type": "code",
   "execution_count": 24,
   "metadata": {},
   "outputs": [
    {
     "output_type": "execute_result",
     "data": {
      "text/plain": [
       "1.0"
      ]
     },
     "metadata": {},
     "execution_count": 24
    }
   ],
   "source": [
    "arbre_elections.accuracy(elections_desc,elections_label)"
   ]
  },
  {
   "cell_type": "markdown",
   "metadata": {},
   "source": [
    "## Première expérimentation avec la base Mushrooms"
   ]
  },
  {
   "cell_type": "markdown",
   "metadata": {},
   "source": [
    "Pour mieux évaluer notre nouvel algortithme d'apprentissage, on va utiliser la base des champignons `mushrooms-1000.csv` qui est fournie dans le répertoire `data`. Ce dataset est une version réduite du dataset original qui comporte plus de 8000 champignons.\n",
    "\n",
    "\n",
    "\n",
    "Dans le répertorie `data/` fourni avec ce sujet, vous pouvez trouver 6 fichiers `mushrooms-****.csv`. Ces 6 fichiers ont été obtenus en partitionant le fichier orignal `mushrooms.csv` que l'on peut trouver sur internet. Dans cette base originale, il y a 8124 champignons recensés. Ce fichier original a été découpé en 5 fichiers de 1400 champignons et 1 fichier de 1124 champignons. L'union de ces 6 fichiers permet donc de recomposer le fichier original.\n"
   ]
  },
  {
   "cell_type": "markdown",
   "metadata": {},
   "source": [
    "### Construction d'un arbre de décision\n",
    "\n",
    "Dans un premier temps, on vérifie que notre algorithme d'apprentissage fonctionne correctement en construisant un arbre de décision à partir d'un des fichiers.\n",
    "\n",
    "On commence par charger le fichier dans un dataframe et on le transforme en dataset (cf. le notebook précédent pour le détail des étapes):"
   ]
  },
  {
   "cell_type": "code",
   "execution_count": 25,
   "metadata": {},
   "outputs": [
    {
     "output_type": "execute_result",
     "data": {
      "text/plain": [
       "     class cap-shape cap-surface cap-color bruises odor gill-attachment  \\\n",
       "0        p         x           y         n       f    y               f   \n",
       "1        p         x           s         n       f    y               f   \n",
       "2        p         x           f         y       f    f               f   \n",
       "3        p         x           f         y       f    f               f   \n",
       "4        p         x           f         y       f    f               f   \n",
       "...    ...       ...         ...       ...     ...  ...             ...   \n",
       "1395     p         x           y         e       f    f               f   \n",
       "1396     e         f           y         n       t    n               f   \n",
       "1397     e         f           f         e       t    n               f   \n",
       "1398     p         x           f         y       f    f               f   \n",
       "1399     e         f           f         e       t    n               f   \n",
       "\n",
       "     gill-spacing gill-size gill-color  ... stalk-surface-below-ring  \\\n",
       "0               c         n          b  ...                        s   \n",
       "1               c         n          b  ...                        k   \n",
       "2               c         b          g  ...                        k   \n",
       "3               c         b          g  ...                        k   \n",
       "4               c         b          h  ...                        k   \n",
       "...           ...       ...        ...  ...                      ...   \n",
       "1395            c         n          b  ...                        k   \n",
       "1396            c         b          p  ...                        s   \n",
       "1397            c         b          n  ...                        s   \n",
       "1398            c         b          p  ...                        k   \n",
       "1399            c         b          u  ...                        s   \n",
       "\n",
       "     stalk-color-above-ring stalk-color-below-ring veil-type veil-color  \\\n",
       "0                         p                      w         p          w   \n",
       "1                         p                      w         p          w   \n",
       "2                         b                      p         p          w   \n",
       "3                         n                      b         p          w   \n",
       "4                         p                      b         p          w   \n",
       "...                     ...                    ...       ...        ...   \n",
       "1395                      w                      w         p          w   \n",
       "1396                      w                      g         p          w   \n",
       "1397                      p                      g         p          w   \n",
       "1398                      n                      b         p          w   \n",
       "1399                      w                      g         p          w   \n",
       "\n",
       "     ring-number ring-type spore-print-color population habitat  \n",
       "0              o         e                 w          v       d  \n",
       "1              o         e                 w          v       l  \n",
       "2              o         l                 h          v       d  \n",
       "3              o         l                 h          y       g  \n",
       "4              o         l                 h          y       d  \n",
       "...          ...       ...               ...        ...     ...  \n",
       "1395           o         e                 w          v       p  \n",
       "1396           o         p                 k          v       d  \n",
       "1397           o         p                 n          y       d  \n",
       "1398           o         l                 h          y       d  \n",
       "1399           o         p                 k          v       d  \n",
       "\n",
       "[1400 rows x 23 columns]"
      ],
      "text/html": "<div>\n<style scoped>\n    .dataframe tbody tr th:only-of-type {\n        vertical-align: middle;\n    }\n\n    .dataframe tbody tr th {\n        vertical-align: top;\n    }\n\n    .dataframe thead th {\n        text-align: right;\n    }\n</style>\n<table border=\"1\" class=\"dataframe\">\n  <thead>\n    <tr style=\"text-align: right;\">\n      <th></th>\n      <th>class</th>\n      <th>cap-shape</th>\n      <th>cap-surface</th>\n      <th>cap-color</th>\n      <th>bruises</th>\n      <th>odor</th>\n      <th>gill-attachment</th>\n      <th>gill-spacing</th>\n      <th>gill-size</th>\n      <th>gill-color</th>\n      <th>...</th>\n      <th>stalk-surface-below-ring</th>\n      <th>stalk-color-above-ring</th>\n      <th>stalk-color-below-ring</th>\n      <th>veil-type</th>\n      <th>veil-color</th>\n      <th>ring-number</th>\n      <th>ring-type</th>\n      <th>spore-print-color</th>\n      <th>population</th>\n      <th>habitat</th>\n    </tr>\n  </thead>\n  <tbody>\n    <tr>\n      <th>0</th>\n      <td>p</td>\n      <td>x</td>\n      <td>y</td>\n      <td>n</td>\n      <td>f</td>\n      <td>y</td>\n      <td>f</td>\n      <td>c</td>\n      <td>n</td>\n      <td>b</td>\n      <td>...</td>\n      <td>s</td>\n      <td>p</td>\n      <td>w</td>\n      <td>p</td>\n      <td>w</td>\n      <td>o</td>\n      <td>e</td>\n      <td>w</td>\n      <td>v</td>\n      <td>d</td>\n    </tr>\n    <tr>\n      <th>1</th>\n      <td>p</td>\n      <td>x</td>\n      <td>s</td>\n      <td>n</td>\n      <td>f</td>\n      <td>y</td>\n      <td>f</td>\n      <td>c</td>\n      <td>n</td>\n      <td>b</td>\n      <td>...</td>\n      <td>k</td>\n      <td>p</td>\n      <td>w</td>\n      <td>p</td>\n      <td>w</td>\n      <td>o</td>\n      <td>e</td>\n      <td>w</td>\n      <td>v</td>\n      <td>l</td>\n    </tr>\n    <tr>\n      <th>2</th>\n      <td>p</td>\n      <td>x</td>\n      <td>f</td>\n      <td>y</td>\n      <td>f</td>\n      <td>f</td>\n      <td>f</td>\n      <td>c</td>\n      <td>b</td>\n      <td>g</td>\n      <td>...</td>\n      <td>k</td>\n      <td>b</td>\n      <td>p</td>\n      <td>p</td>\n      <td>w</td>\n      <td>o</td>\n      <td>l</td>\n      <td>h</td>\n      <td>v</td>\n      <td>d</td>\n    </tr>\n    <tr>\n      <th>3</th>\n      <td>p</td>\n      <td>x</td>\n      <td>f</td>\n      <td>y</td>\n      <td>f</td>\n      <td>f</td>\n      <td>f</td>\n      <td>c</td>\n      <td>b</td>\n      <td>g</td>\n      <td>...</td>\n      <td>k</td>\n      <td>n</td>\n      <td>b</td>\n      <td>p</td>\n      <td>w</td>\n      <td>o</td>\n      <td>l</td>\n      <td>h</td>\n      <td>y</td>\n      <td>g</td>\n    </tr>\n    <tr>\n      <th>4</th>\n      <td>p</td>\n      <td>x</td>\n      <td>f</td>\n      <td>y</td>\n      <td>f</td>\n      <td>f</td>\n      <td>f</td>\n      <td>c</td>\n      <td>b</td>\n      <td>h</td>\n      <td>...</td>\n      <td>k</td>\n      <td>p</td>\n      <td>b</td>\n      <td>p</td>\n      <td>w</td>\n      <td>o</td>\n      <td>l</td>\n      <td>h</td>\n      <td>y</td>\n      <td>d</td>\n    </tr>\n    <tr>\n      <th>...</th>\n      <td>...</td>\n      <td>...</td>\n      <td>...</td>\n      <td>...</td>\n      <td>...</td>\n      <td>...</td>\n      <td>...</td>\n      <td>...</td>\n      <td>...</td>\n      <td>...</td>\n      <td>...</td>\n      <td>...</td>\n      <td>...</td>\n      <td>...</td>\n      <td>...</td>\n      <td>...</td>\n      <td>...</td>\n      <td>...</td>\n      <td>...</td>\n      <td>...</td>\n      <td>...</td>\n    </tr>\n    <tr>\n      <th>1395</th>\n      <td>p</td>\n      <td>x</td>\n      <td>y</td>\n      <td>e</td>\n      <td>f</td>\n      <td>f</td>\n      <td>f</td>\n      <td>c</td>\n      <td>n</td>\n      <td>b</td>\n      <td>...</td>\n      <td>k</td>\n      <td>w</td>\n      <td>w</td>\n      <td>p</td>\n      <td>w</td>\n      <td>o</td>\n      <td>e</td>\n      <td>w</td>\n      <td>v</td>\n      <td>p</td>\n    </tr>\n    <tr>\n      <th>1396</th>\n      <td>e</td>\n      <td>f</td>\n      <td>y</td>\n      <td>n</td>\n      <td>t</td>\n      <td>n</td>\n      <td>f</td>\n      <td>c</td>\n      <td>b</td>\n      <td>p</td>\n      <td>...</td>\n      <td>s</td>\n      <td>w</td>\n      <td>g</td>\n      <td>p</td>\n      <td>w</td>\n      <td>o</td>\n      <td>p</td>\n      <td>k</td>\n      <td>v</td>\n      <td>d</td>\n    </tr>\n    <tr>\n      <th>1397</th>\n      <td>e</td>\n      <td>f</td>\n      <td>f</td>\n      <td>e</td>\n      <td>t</td>\n      <td>n</td>\n      <td>f</td>\n      <td>c</td>\n      <td>b</td>\n      <td>n</td>\n      <td>...</td>\n      <td>s</td>\n      <td>p</td>\n      <td>g</td>\n      <td>p</td>\n      <td>w</td>\n      <td>o</td>\n      <td>p</td>\n      <td>n</td>\n      <td>y</td>\n      <td>d</td>\n    </tr>\n    <tr>\n      <th>1398</th>\n      <td>p</td>\n      <td>x</td>\n      <td>f</td>\n      <td>y</td>\n      <td>f</td>\n      <td>f</td>\n      <td>f</td>\n      <td>c</td>\n      <td>b</td>\n      <td>p</td>\n      <td>...</td>\n      <td>k</td>\n      <td>n</td>\n      <td>b</td>\n      <td>p</td>\n      <td>w</td>\n      <td>o</td>\n      <td>l</td>\n      <td>h</td>\n      <td>y</td>\n      <td>d</td>\n    </tr>\n    <tr>\n      <th>1399</th>\n      <td>e</td>\n      <td>f</td>\n      <td>f</td>\n      <td>e</td>\n      <td>t</td>\n      <td>n</td>\n      <td>f</td>\n      <td>c</td>\n      <td>b</td>\n      <td>u</td>\n      <td>...</td>\n      <td>s</td>\n      <td>w</td>\n      <td>g</td>\n      <td>p</td>\n      <td>w</td>\n      <td>o</td>\n      <td>p</td>\n      <td>k</td>\n      <td>v</td>\n      <td>d</td>\n    </tr>\n  </tbody>\n</table>\n<p>1400 rows × 23 columns</p>\n</div>"
     },
     "metadata": {},
     "execution_count": 25
    }
   ],
   "source": [
    "# Chargement des fichiers de données sur les mushrooms:\n",
    "\n",
    "# On commence par travailler sur un des fichier \"mushrooms-1400\"\n",
    "mushrooms_df = pd.read_csv(\"data/mushrooms-1400-1.csv\")\n",
    "\n",
    "mushrooms_df\n"
   ]
  },
  {
   "cell_type": "code",
   "execution_count": 26,
   "metadata": {},
   "outputs": [],
   "source": [
    "# Noms des colonnes:\n",
    "# Dans ce dataframe, la colonne de classe s'appelle 'class'\n",
    "mushrooms_noms = [nom for nom in mushrooms_df.columns if nom != 'class']"
   ]
  },
  {
   "cell_type": "code",
   "execution_count": 27,
   "metadata": {},
   "outputs": [],
   "source": [
    "# Passer du dataframe à un dataset (2 arrays):\n",
    "mushrooms_1_desc = np.array(mushrooms_df[mushrooms_noms])\n",
    "mushrooms_1_label = np.array(mushrooms_df['class'])\n"
   ]
  },
  {
   "cell_type": "markdown",
   "metadata": {},
   "source": [
    "Ensuite, on construit l'arbre de décision correspondant.\n",
    "\n",
    "<font color=\"RED\" size=\"+1\">**[Q]**</font> Compléter le code suivant pour apprendre l'arbre et l'afficher ensuite:"
   ]
  },
  {
   "cell_type": "code",
   "execution_count": 28,
   "metadata": {
    "scrolled": false
   },
   "outputs": [
    {
     "output_type": "execute_result",
     "data": {
      "text/plain": [
       "<graphviz.dot.Digraph at 0x24df9afb520>"
      ],
      "image/svg+xml": "<?xml version=\"1.0\" encoding=\"UTF-8\" standalone=\"no\"?>\r\n<!DOCTYPE svg PUBLIC \"-//W3C//DTD SVG 1.1//EN\"\r\n \"http://www.w3.org/Graphics/SVG/1.1/DTD/svg11.dtd\">\r\n<!-- Generated by graphviz version 2.44.2~dev.20201112.1525 (20201112.1525)\r\n -->\r\n<!-- Pages: 1 -->\r\n<svg width=\"638pt\" height=\"131pt\"\r\n viewBox=\"0.00 0.00 638.00 131.00\" xmlns=\"http://www.w3.org/2000/svg\" xmlns:xlink=\"http://www.w3.org/1999/xlink\">\r\n<g id=\"graph0\" class=\"graph\" transform=\"scale(1 1) rotate(0) translate(4 127)\">\r\n<polygon fill=\"white\" stroke=\"transparent\" points=\"-4,4 -4,-127 634,-127 634,4 -4,4\"/>\r\n<!-- A -->\r\n<g id=\"node1\" class=\"node\">\r\n<title>A</title>\r\n<ellipse fill=\"none\" stroke=\"black\" cx=\"315\" cy=\"-105\" rx=\"28.7\" ry=\"18\"/>\r\n<text text-anchor=\"middle\" x=\"315\" y=\"-101.3\" font-family=\"Times New Roman,serif\" font-size=\"14.00\">att_4</text>\r\n</g>\r\n<!-- A0 -->\r\n<g id=\"node2\" class=\"node\">\r\n<title>A0</title>\r\n<polygon fill=\"none\" stroke=\"black\" points=\"54,-36 0,-36 0,0 54,0 54,-36\"/>\r\n<text text-anchor=\"middle\" x=\"27\" y=\"-14.3\" font-family=\"Times New Roman,serif\" font-size=\"14.00\">e</text>\r\n</g>\r\n<!-- A&#45;&gt;A0 -->\r\n<g id=\"edge1\" class=\"edge\">\r\n<title>A:&#45;&gt;A0:</title>\r\n<path fill=\"none\" stroke=\"black\" d=\"M287.94,-98.61C242.85,-89.24 149.6,-68.11 63.93,-36.07\"/>\r\n<polygon fill=\"black\" stroke=\"black\" points=\"64.92,-32.71 54.33,-32.42 62.44,-39.25 64.92,-32.71\"/>\r\n<text text-anchor=\"middle\" x=\"162.5\" y=\"-57.8\" font-family=\"Times New Roman,serif\" font-size=\"14.00\">a</text>\r\n</g>\r\n<!-- A1 -->\r\n<g id=\"node3\" class=\"node\">\r\n<title>A1</title>\r\n<polygon fill=\"none\" stroke=\"black\" points=\"126,-36 72,-36 72,0 126,0 126,-36\"/>\r\n<text text-anchor=\"middle\" x=\"99\" y=\"-14.3\" font-family=\"Times New Roman,serif\" font-size=\"14.00\">p</text>\r\n</g>\r\n<!-- A&#45;&gt;A1 -->\r\n<g id=\"edge2\" class=\"edge\">\r\n<title>A:&#45;&gt;A1:</title>\r\n<path fill=\"none\" stroke=\"black\" d=\"M290.59,-95.48C257.45,-83.76 196.25,-61.59 135.39,-36.01\"/>\r\n<polygon fill=\"black\" stroke=\"black\" points=\"136.6,-32.72 126.02,-32.04 133.87,-39.17 136.6,-32.72\"/>\r\n<text text-anchor=\"middle\" x=\"217.5\" y=\"-57.8\" font-family=\"Times New Roman,serif\" font-size=\"14.00\">c</text>\r\n</g>\r\n<!-- A2 -->\r\n<g id=\"node4\" class=\"node\">\r\n<title>A2</title>\r\n<polygon fill=\"none\" stroke=\"black\" points=\"198,-36 144,-36 144,0 198,0 198,-36\"/>\r\n<text text-anchor=\"middle\" x=\"171\" y=\"-14.3\" font-family=\"Times New Roman,serif\" font-size=\"14.00\">p</text>\r\n</g>\r\n<!-- A&#45;&gt;A2 -->\r\n<g id=\"edge3\" class=\"edge\">\r\n<title>A:&#45;&gt;A2:</title>\r\n<path fill=\"none\" stroke=\"black\" d=\"M294.67,-92C271.87,-78.54 234.44,-56.45 206.73,-40.09\"/>\r\n<polygon fill=\"black\" stroke=\"black\" points=\"208.49,-37.07 198.1,-35 204.93,-43.09 208.49,-37.07\"/>\r\n<text text-anchor=\"middle\" x=\"254.5\" y=\"-57.8\" font-family=\"Times New Roman,serif\" font-size=\"14.00\">f</text>\r\n</g>\r\n<!-- A3 -->\r\n<g id=\"node5\" class=\"node\">\r\n<title>A3</title>\r\n<polygon fill=\"none\" stroke=\"black\" points=\"270,-36 216,-36 216,0 270,0 270,-36\"/>\r\n<text text-anchor=\"middle\" x=\"243\" y=\"-14.3\" font-family=\"Times New Roman,serif\" font-size=\"14.00\">e</text>\r\n</g>\r\n<!-- A&#45;&gt;A3 -->\r\n<g id=\"edge4\" class=\"edge\">\r\n<title>A:&#45;&gt;A3:</title>\r\n<path fill=\"none\" stroke=\"black\" d=\"M302.13,-88.8C291.55,-76.31 276.35,-58.37 264.01,-43.8\"/>\r\n<polygon fill=\"black\" stroke=\"black\" points=\"266.63,-41.48 257.49,-36.11 261.29,-46 266.63,-41.48\"/>\r\n<text text-anchor=\"middle\" x=\"286\" y=\"-57.8\" font-family=\"Times New Roman,serif\" font-size=\"14.00\">l</text>\r\n</g>\r\n<!-- A4 -->\r\n<g id=\"node6\" class=\"node\">\r\n<title>A4</title>\r\n<polygon fill=\"none\" stroke=\"black\" points=\"342,-36 288,-36 288,0 342,0 342,-36\"/>\r\n<text text-anchor=\"middle\" x=\"315\" y=\"-14.3\" font-family=\"Times New Roman,serif\" font-size=\"14.00\">p</text>\r\n</g>\r\n<!-- A&#45;&gt;A4 -->\r\n<g id=\"edge5\" class=\"edge\">\r\n<title>A:&#45;&gt;A4:</title>\r\n<path fill=\"none\" stroke=\"black\" d=\"M315,-86.8C315,-75.16 315,-59.55 315,-46.24\"/>\r\n<polygon fill=\"black\" stroke=\"black\" points=\"318.5,-46.18 315,-36.18 311.5,-46.18 318.5,-46.18\"/>\r\n<text text-anchor=\"middle\" x=\"320.5\" y=\"-57.8\" font-family=\"Times New Roman,serif\" font-size=\"14.00\">m</text>\r\n</g>\r\n<!-- A5 -->\r\n<g id=\"node7\" class=\"node\">\r\n<title>A5</title>\r\n<polygon fill=\"none\" stroke=\"black\" points=\"414,-36 360,-36 360,0 414,0 414,-36\"/>\r\n<text text-anchor=\"middle\" x=\"387\" y=\"-14.3\" font-family=\"Times New Roman,serif\" font-size=\"14.00\">e</text>\r\n</g>\r\n<!-- A&#45;&gt;A5 -->\r\n<g id=\"edge6\" class=\"edge\">\r\n<title>A:&#45;&gt;A5:</title>\r\n<path fill=\"none\" stroke=\"black\" d=\"M327.87,-88.8C338.45,-76.31 353.65,-58.37 365.99,-43.8\"/>\r\n<polygon fill=\"black\" stroke=\"black\" points=\"368.71,-46 372.51,-36.11 363.37,-41.48 368.71,-46\"/>\r\n<text text-anchor=\"middle\" x=\"359.5\" y=\"-57.8\" font-family=\"Times New Roman,serif\" font-size=\"14.00\">n</text>\r\n</g>\r\n<!-- A6 -->\r\n<g id=\"node8\" class=\"node\">\r\n<title>A6</title>\r\n<polygon fill=\"none\" stroke=\"black\" points=\"486,-36 432,-36 432,0 486,0 486,-36\"/>\r\n<text text-anchor=\"middle\" x=\"459\" y=\"-14.3\" font-family=\"Times New Roman,serif\" font-size=\"14.00\">p</text>\r\n</g>\r\n<!-- A&#45;&gt;A6 -->\r\n<g id=\"edge7\" class=\"edge\">\r\n<title>A:&#45;&gt;A6:</title>\r\n<path fill=\"none\" stroke=\"black\" d=\"M335.33,-92C358.13,-78.54 395.56,-56.45 423.27,-40.09\"/>\r\n<polygon fill=\"black\" stroke=\"black\" points=\"425.07,-43.09 431.9,-35 421.51,-37.07 425.07,-43.09\"/>\r\n<text text-anchor=\"middle\" x=\"399\" y=\"-57.8\" font-family=\"Times New Roman,serif\" font-size=\"14.00\">p</text>\r\n</g>\r\n<!-- A7 -->\r\n<g id=\"node9\" class=\"node\">\r\n<title>A7</title>\r\n<polygon fill=\"none\" stroke=\"black\" points=\"558,-36 504,-36 504,0 558,0 558,-36\"/>\r\n<text text-anchor=\"middle\" x=\"531\" y=\"-14.3\" font-family=\"Times New Roman,serif\" font-size=\"14.00\">p</text>\r\n</g>\r\n<!-- A&#45;&gt;A7 -->\r\n<g id=\"edge8\" class=\"edge\">\r\n<title>A:&#45;&gt;A7:</title>\r\n<path fill=\"none\" stroke=\"black\" d=\"M339.41,-95.48C372.55,-83.76 433.75,-61.59 494.61,-36.01\"/>\r\n<polygon fill=\"black\" stroke=\"black\" points=\"496.13,-39.17 503.98,-32.04 493.4,-32.72 496.13,-39.17\"/>\r\n<text text-anchor=\"middle\" x=\"449.5\" y=\"-57.8\" font-family=\"Times New Roman,serif\" font-size=\"14.00\">s</text>\r\n</g>\r\n<!-- A8 -->\r\n<g id=\"node10\" class=\"node\">\r\n<title>A8</title>\r\n<polygon fill=\"none\" stroke=\"black\" points=\"630,-36 576,-36 576,0 630,0 630,-36\"/>\r\n<text text-anchor=\"middle\" x=\"603\" y=\"-14.3\" font-family=\"Times New Roman,serif\" font-size=\"14.00\">p</text>\r\n</g>\r\n<!-- A&#45;&gt;A8 -->\r\n<g id=\"edge9\" class=\"edge\">\r\n<title>A:&#45;&gt;A8:</title>\r\n<path fill=\"none\" stroke=\"black\" d=\"M342.06,-98.61C387.15,-89.24 480.4,-68.11 566.07,-36.07\"/>\r\n<polygon fill=\"black\" stroke=\"black\" points=\"567.56,-39.25 575.67,-32.42 565.08,-32.71 567.56,-39.25\"/>\r\n<text text-anchor=\"middle\" x=\"516.5\" y=\"-57.8\" font-family=\"Times New Roman,serif\" font-size=\"14.00\">y</text>\r\n</g>\r\n</g>\r\n</svg>\r\n"
     },
     "metadata": {},
     "execution_count": 28
    }
   ],
   "source": [
    "arbre_mushrooms_1 = ClassifierArbreDecision(len(mushrooms_noms), 0.0, mushrooms_noms)\n",
    "\n",
    "\n",
    "arbre_mushrooms_1.train(mushrooms_1_desc, mushrooms_1_label)\n",
    "\n",
    "\n",
    "gr_arbre_mushrooms_1 = gv.Digraph(format='png')\n",
    "arbre_mushrooms_1.affiche(gr_arbre_mushrooms_1)\n",
    "\n",
    "gr_arbre_mushrooms_1"
   ]
  },
  {
   "cell_type": "markdown",
   "metadata": {},
   "source": [
    "### Classification avec l'arbre de décision obtenu"
   ]
  },
  {
   "cell_type": "markdown",
   "metadata": {},
   "source": [
    "Exemple de classification d'un exemple:"
   ]
  },
  {
   "cell_type": "code",
   "execution_count": 29,
   "metadata": {},
   "outputs": [
    {
     "output_type": "execute_result",
     "data": {
      "text/plain": [
       "'p'"
      ]
     },
     "metadata": {},
     "execution_count": 29
    }
   ],
   "source": [
    "arbre_mushrooms_1.predict(mushrooms_1_desc[0,:])"
   ]
  },
  {
   "cell_type": "markdown",
   "metadata": {},
   "source": [
    "Calcul de l'accuracy sur le dataset d'apprentissage :"
   ]
  },
  {
   "cell_type": "code",
   "execution_count": 30,
   "metadata": {},
   "outputs": [
    {
     "output_type": "execute_result",
     "data": {
      "text/plain": [
       "0.9892857142857143"
      ]
     },
     "metadata": {},
     "execution_count": 30
    }
   ],
   "source": [
    "arbre_mushrooms_1.accuracy(mushrooms_1_desc,mushrooms_1_label)"
   ]
  },
  {
   "cell_type": "markdown",
   "metadata": {},
   "source": [
    "<font color=\"RED\" size=\"+1\">**[Q]**</font> Toujours avec le dataset `mushrooms_1` précédent, construire un nouvel arbre de décision en utilisant comme valeur d'epsilon : $0.25$.\n",
    "\n",
    "Que constatez-vous ? "
   ]
  },
  {
   "cell_type": "code",
   "execution_count": 31,
   "metadata": {},
   "outputs": [
    {
     "output_type": "execute_result",
     "data": {
      "text/plain": [
       "<graphviz.dot.Digraph at 0x24d8caea9d0>"
      ],
      "image/svg+xml": "<?xml version=\"1.0\" encoding=\"UTF-8\" standalone=\"no\"?>\r\n<!DOCTYPE svg PUBLIC \"-//W3C//DTD SVG 1.1//EN\"\r\n \"http://www.w3.org/Graphics/SVG/1.1/DTD/svg11.dtd\">\r\n<!-- Generated by graphviz version 2.44.2~dev.20201112.1525 (20201112.1525)\r\n -->\r\n<!-- Pages: 1 -->\r\n<svg width=\"638pt\" height=\"131pt\"\r\n viewBox=\"0.00 0.00 638.00 131.00\" xmlns=\"http://www.w3.org/2000/svg\" xmlns:xlink=\"http://www.w3.org/1999/xlink\">\r\n<g id=\"graph0\" class=\"graph\" transform=\"scale(1 1) rotate(0) translate(4 127)\">\r\n<polygon fill=\"white\" stroke=\"transparent\" points=\"-4,4 -4,-127 634,-127 634,4 -4,4\"/>\r\n<!-- A -->\r\n<g id=\"node1\" class=\"node\">\r\n<title>A</title>\r\n<ellipse fill=\"none\" stroke=\"black\" cx=\"315\" cy=\"-105\" rx=\"28.7\" ry=\"18\"/>\r\n<text text-anchor=\"middle\" x=\"315\" y=\"-101.3\" font-family=\"Times New Roman,serif\" font-size=\"14.00\">att_4</text>\r\n</g>\r\n<!-- A0 -->\r\n<g id=\"node2\" class=\"node\">\r\n<title>A0</title>\r\n<polygon fill=\"none\" stroke=\"black\" points=\"54,-36 0,-36 0,0 54,0 54,-36\"/>\r\n<text text-anchor=\"middle\" x=\"27\" y=\"-14.3\" font-family=\"Times New Roman,serif\" font-size=\"14.00\">e</text>\r\n</g>\r\n<!-- A&#45;&gt;A0 -->\r\n<g id=\"edge1\" class=\"edge\">\r\n<title>A:&#45;&gt;A0:</title>\r\n<path fill=\"none\" stroke=\"black\" d=\"M287.94,-98.61C242.85,-89.24 149.6,-68.11 63.93,-36.07\"/>\r\n<polygon fill=\"black\" stroke=\"black\" points=\"64.92,-32.71 54.33,-32.42 62.44,-39.25 64.92,-32.71\"/>\r\n<text text-anchor=\"middle\" x=\"162.5\" y=\"-57.8\" font-family=\"Times New Roman,serif\" font-size=\"14.00\">a</text>\r\n</g>\r\n<!-- A1 -->\r\n<g id=\"node3\" class=\"node\">\r\n<title>A1</title>\r\n<polygon fill=\"none\" stroke=\"black\" points=\"126,-36 72,-36 72,0 126,0 126,-36\"/>\r\n<text text-anchor=\"middle\" x=\"99\" y=\"-14.3\" font-family=\"Times New Roman,serif\" font-size=\"14.00\">p</text>\r\n</g>\r\n<!-- A&#45;&gt;A1 -->\r\n<g id=\"edge2\" class=\"edge\">\r\n<title>A:&#45;&gt;A1:</title>\r\n<path fill=\"none\" stroke=\"black\" d=\"M290.59,-95.48C257.45,-83.76 196.25,-61.59 135.39,-36.01\"/>\r\n<polygon fill=\"black\" stroke=\"black\" points=\"136.6,-32.72 126.02,-32.04 133.87,-39.17 136.6,-32.72\"/>\r\n<text text-anchor=\"middle\" x=\"217.5\" y=\"-57.8\" font-family=\"Times New Roman,serif\" font-size=\"14.00\">c</text>\r\n</g>\r\n<!-- A2 -->\r\n<g id=\"node4\" class=\"node\">\r\n<title>A2</title>\r\n<polygon fill=\"none\" stroke=\"black\" points=\"198,-36 144,-36 144,0 198,0 198,-36\"/>\r\n<text text-anchor=\"middle\" x=\"171\" y=\"-14.3\" font-family=\"Times New Roman,serif\" font-size=\"14.00\">p</text>\r\n</g>\r\n<!-- A&#45;&gt;A2 -->\r\n<g id=\"edge3\" class=\"edge\">\r\n<title>A:&#45;&gt;A2:</title>\r\n<path fill=\"none\" stroke=\"black\" d=\"M294.67,-92C271.87,-78.54 234.44,-56.45 206.73,-40.09\"/>\r\n<polygon fill=\"black\" stroke=\"black\" points=\"208.49,-37.07 198.1,-35 204.93,-43.09 208.49,-37.07\"/>\r\n<text text-anchor=\"middle\" x=\"254.5\" y=\"-57.8\" font-family=\"Times New Roman,serif\" font-size=\"14.00\">f</text>\r\n</g>\r\n<!-- A3 -->\r\n<g id=\"node5\" class=\"node\">\r\n<title>A3</title>\r\n<polygon fill=\"none\" stroke=\"black\" points=\"270,-36 216,-36 216,0 270,0 270,-36\"/>\r\n<text text-anchor=\"middle\" x=\"243\" y=\"-14.3\" font-family=\"Times New Roman,serif\" font-size=\"14.00\">e</text>\r\n</g>\r\n<!-- A&#45;&gt;A3 -->\r\n<g id=\"edge4\" class=\"edge\">\r\n<title>A:&#45;&gt;A3:</title>\r\n<path fill=\"none\" stroke=\"black\" d=\"M302.13,-88.8C291.55,-76.31 276.35,-58.37 264.01,-43.8\"/>\r\n<polygon fill=\"black\" stroke=\"black\" points=\"266.63,-41.48 257.49,-36.11 261.29,-46 266.63,-41.48\"/>\r\n<text text-anchor=\"middle\" x=\"286\" y=\"-57.8\" font-family=\"Times New Roman,serif\" font-size=\"14.00\">l</text>\r\n</g>\r\n<!-- A4 -->\r\n<g id=\"node6\" class=\"node\">\r\n<title>A4</title>\r\n<polygon fill=\"none\" stroke=\"black\" points=\"342,-36 288,-36 288,0 342,0 342,-36\"/>\r\n<text text-anchor=\"middle\" x=\"315\" y=\"-14.3\" font-family=\"Times New Roman,serif\" font-size=\"14.00\">p</text>\r\n</g>\r\n<!-- A&#45;&gt;A4 -->\r\n<g id=\"edge5\" class=\"edge\">\r\n<title>A:&#45;&gt;A4:</title>\r\n<path fill=\"none\" stroke=\"black\" d=\"M315,-86.8C315,-75.16 315,-59.55 315,-46.24\"/>\r\n<polygon fill=\"black\" stroke=\"black\" points=\"318.5,-46.18 315,-36.18 311.5,-46.18 318.5,-46.18\"/>\r\n<text text-anchor=\"middle\" x=\"320.5\" y=\"-57.8\" font-family=\"Times New Roman,serif\" font-size=\"14.00\">m</text>\r\n</g>\r\n<!-- A5 -->\r\n<g id=\"node7\" class=\"node\">\r\n<title>A5</title>\r\n<polygon fill=\"none\" stroke=\"black\" points=\"414,-36 360,-36 360,0 414,0 414,-36\"/>\r\n<text text-anchor=\"middle\" x=\"387\" y=\"-14.3\" font-family=\"Times New Roman,serif\" font-size=\"14.00\">e</text>\r\n</g>\r\n<!-- A&#45;&gt;A5 -->\r\n<g id=\"edge6\" class=\"edge\">\r\n<title>A:&#45;&gt;A5:</title>\r\n<path fill=\"none\" stroke=\"black\" d=\"M327.87,-88.8C338.45,-76.31 353.65,-58.37 365.99,-43.8\"/>\r\n<polygon fill=\"black\" stroke=\"black\" points=\"368.71,-46 372.51,-36.11 363.37,-41.48 368.71,-46\"/>\r\n<text text-anchor=\"middle\" x=\"359.5\" y=\"-57.8\" font-family=\"Times New Roman,serif\" font-size=\"14.00\">n</text>\r\n</g>\r\n<!-- A6 -->\r\n<g id=\"node8\" class=\"node\">\r\n<title>A6</title>\r\n<polygon fill=\"none\" stroke=\"black\" points=\"486,-36 432,-36 432,0 486,0 486,-36\"/>\r\n<text text-anchor=\"middle\" x=\"459\" y=\"-14.3\" font-family=\"Times New Roman,serif\" font-size=\"14.00\">p</text>\r\n</g>\r\n<!-- A&#45;&gt;A6 -->\r\n<g id=\"edge7\" class=\"edge\">\r\n<title>A:&#45;&gt;A6:</title>\r\n<path fill=\"none\" stroke=\"black\" d=\"M335.33,-92C358.13,-78.54 395.56,-56.45 423.27,-40.09\"/>\r\n<polygon fill=\"black\" stroke=\"black\" points=\"425.07,-43.09 431.9,-35 421.51,-37.07 425.07,-43.09\"/>\r\n<text text-anchor=\"middle\" x=\"399\" y=\"-57.8\" font-family=\"Times New Roman,serif\" font-size=\"14.00\">p</text>\r\n</g>\r\n<!-- A7 -->\r\n<g id=\"node9\" class=\"node\">\r\n<title>A7</title>\r\n<polygon fill=\"none\" stroke=\"black\" points=\"558,-36 504,-36 504,0 558,0 558,-36\"/>\r\n<text text-anchor=\"middle\" x=\"531\" y=\"-14.3\" font-family=\"Times New Roman,serif\" font-size=\"14.00\">p</text>\r\n</g>\r\n<!-- A&#45;&gt;A7 -->\r\n<g id=\"edge8\" class=\"edge\">\r\n<title>A:&#45;&gt;A7:</title>\r\n<path fill=\"none\" stroke=\"black\" d=\"M339.41,-95.48C372.55,-83.76 433.75,-61.59 494.61,-36.01\"/>\r\n<polygon fill=\"black\" stroke=\"black\" points=\"496.13,-39.17 503.98,-32.04 493.4,-32.72 496.13,-39.17\"/>\r\n<text text-anchor=\"middle\" x=\"449.5\" y=\"-57.8\" font-family=\"Times New Roman,serif\" font-size=\"14.00\">s</text>\r\n</g>\r\n<!-- A8 -->\r\n<g id=\"node10\" class=\"node\">\r\n<title>A8</title>\r\n<polygon fill=\"none\" stroke=\"black\" points=\"630,-36 576,-36 576,0 630,0 630,-36\"/>\r\n<text text-anchor=\"middle\" x=\"603\" y=\"-14.3\" font-family=\"Times New Roman,serif\" font-size=\"14.00\">p</text>\r\n</g>\r\n<!-- A&#45;&gt;A8 -->\r\n<g id=\"edge9\" class=\"edge\">\r\n<title>A:&#45;&gt;A8:</title>\r\n<path fill=\"none\" stroke=\"black\" d=\"M342.06,-98.61C387.15,-89.24 480.4,-68.11 566.07,-36.07\"/>\r\n<polygon fill=\"black\" stroke=\"black\" points=\"567.56,-39.25 575.67,-32.42 565.08,-32.71 567.56,-39.25\"/>\r\n<text text-anchor=\"middle\" x=\"516.5\" y=\"-57.8\" font-family=\"Times New Roman,serif\" font-size=\"14.00\">y</text>\r\n</g>\r\n</g>\r\n</svg>\r\n"
     },
     "metadata": {},
     "execution_count": 31
    }
   ],
   "source": [
    "arbre_mushrooms_1_bis = ClassifierArbreDecision(len(mushrooms_noms), 0.25, mushrooms_noms)\n",
    "\n",
    "arbre_mushrooms_1_bis.train(mushrooms_1_desc, mushrooms_1_label)\n",
    "\n",
    "gr_arbre_mushrooms_1_bis = gv.Digraph(format='png')\n",
    "arbre_mushrooms_1_bis.affiche(gr_arbre_mushrooms_1_bis)\n",
    "\n",
    "gr_arbre_mushrooms_1_bis"
   ]
  },
  {
   "cell_type": "markdown",
   "metadata": {},
   "source": [
    "<font color=\"RED\" size=\"+1\">**[Q]**</font> Déterminer l'accuracy de ce nouvel arbre.\n",
    "\n",
    "**Attention**: votre fonction `predict` doit pouvoir tenir compte du fait que les classes ne sont pas égales à +1 ou -1..."
   ]
  },
  {
   "cell_type": "code",
   "execution_count": 32,
   "metadata": {},
   "outputs": [
    {
     "output_type": "execute_result",
     "data": {
      "text/plain": [
       "0.9892857142857143"
      ]
     },
     "metadata": {},
     "execution_count": 32
    }
   ],
   "source": [
    "arbre_mushrooms_1_bis.accuracy(mushrooms_1_desc,mushrooms_1_label)"
   ]
  },
  {
   "cell_type": "markdown",
   "metadata": {},
   "source": [
    "<font color=\"RED\" size=\"+1\">**[Q]**</font> D'après ces résultats, de ces 2 arbres, quel est celui qui a sur-appris ? "
   ]
  },
  {
   "cell_type": "code",
   "execution_count": null,
   "metadata": {},
   "outputs": [],
   "source": []
  },
  {
   "cell_type": "markdown",
   "metadata": {},
   "source": [
    "Pour expérimenter un classifieur, on a vu qu'il est nécessaire de posséder deux datasets distincts: \n",
    "- le dataset d'apprentissage, qui se compose donc de 2 arrays: `train_desc` et `train_labels`\n",
    "- et le dataset de test, qui se compose de 2 arrays: `test_desc` et `test_labels`. \n",
    "\n",
    "\n",
    "On commence par construire le classifieur avec le dataset d'apprentisage, puis, on évalue sa performance en 2 temps :\n",
    "- on calcule son **accuracy d'apprentissage** qui est l'accuracy obtenue sur le dataset d'apprentissage \n",
    "- on calcule son **accuracy de test** qui est l'accuracy obtenue sur le dataset de test\n",
    "\n",
    "La première valeur mesure combien le classifieur a appris les données d'apprentissage, la deuxième valeur mesure sa performance en généralisation."
   ]
  },
  {
   "cell_type": "markdown",
   "metadata": {},
   "source": [
    "## Plus d'expérimentations avec la base Mushrooms\n",
    "\n",
    "On décide maintenant d'évaluer plus en détail ce nouvel algorithme. On souhaite:\n",
    "1. construire un arbre avec chaque fichier `mushrooms-1400-*.csv` \n",
    "2. pour chaque arbre construit, évaluer son accuracy:\n",
    "    - sur le dataset d'apprentissage\n",
    "    - sur les 4 autres fichiers `mushrooms-1400-*.csv`\n",
    "    - sur le fichier `mushrooms-1124.csv`\n",
    "    \n",
    "    \n",
    "**Remarque :** normalement, tous ces tests devraient pouvoir se faire dans un temps raisonnable, dans le cas contraire, faites les un par un."
   ]
  },
  {
   "cell_type": "code",
   "execution_count": 33,
   "metadata": {},
   "outputs": [],
   "source": [
    "# Chargement des fichiers mushrooms et apprentissage\n",
    "mushrooms_desc = []\n",
    "mushrooms_label = []\n",
    "arbres_mushrooms = []\n",
    "for j in range(0,5):\n",
    "    mushrooms_df = pd.read_csv(\"data/mushrooms-1400-\"+str(j+1)+\".csv\")\n",
    "    mushrooms_noms = [nom for nom in mushrooms_df.columns if nom != 'class']\n",
    "    # Passer du dataframe à un dataset (2 arrays):\n",
    "    mushrooms_desc.append(np.array(mushrooms_df[mushrooms_noms]))\n",
    "    mushrooms_label.append(np.array(mushrooms_df['class']))\n",
    "    \n",
    "    # Apprentissage\n",
    "    arbres_mushrooms.append(ClassifierArbreDecision(len(mushrooms_noms), 0.0, mushrooms_noms))\n",
    "    arbres_mushrooms[j].train(mushrooms_desc[j],mushrooms_label[j])"
   ]
  },
  {
   "cell_type": "code",
   "execution_count": 34,
   "metadata": {},
   "outputs": [],
   "source": [
    "# Fichier qui va nous servir à tester\n",
    "mushrooms_df = pd.read_csv(\"data/mushrooms-1124.csv\")\n",
    "\n",
    "# Passer du dataframe à un dataset (2 arrays):\n",
    "mushrooms_test_desc = np.array(mushrooms_df[mushrooms_noms])\n",
    "mushrooms_test_label = np.array(mushrooms_df['class'])"
   ]
  },
  {
   "cell_type": "markdown",
   "metadata": {},
   "source": [
    "<font color=\"RED\" size=\"+1\">**[Q]**</font> Donner les instructions permettant d'obtenir le taux de bonne classification (accuracy) de chacun des arbres construits sur les autres bases, sur le modèle suivant:"
   ]
  },
  {
   "cell_type": "code",
   "execution_count": 35,
   "metadata": {},
   "outputs": [
    {
     "output_type": "stream",
     "name": "stdout",
     "text": [
      "Apprentissage avec mushrooms-1400-1\n\tClassification de mushrooms-1400-1 : 0.9892857142857143\n\tClassification de mushrooms-1400-2 : 0.9857142857142858\n\tClassification de mushrooms-1400-3 : 0.985\n\tClassification de mushrooms-1400-4 : 0.9821428571428571\n\tClassification de mushrooms-1400-5 : 0.9821428571428571\n\t--> Classification de mushrooms-1124 : 0.9875444839857651\nApprentissage avec mushrooms-1400-2\n\tClassification de mushrooms-1400-1 : 0.9892857142857143\n\tClassification de mushrooms-1400-2 : 0.9857142857142858\n\tClassification de mushrooms-1400-3 : 0.985\n\tClassification de mushrooms-1400-4 : 0.9821428571428571\n\tClassification de mushrooms-1400-5 : 0.9821428571428571\n\t--> Classification de mushrooms-1124 : 0.9875444839857651\nApprentissage avec mushrooms-1400-3\n\tClassification de mushrooms-1400-1 : 0.9892857142857143\n\tClassification de mushrooms-1400-2 : 0.9857142857142858\n\tClassification de mushrooms-1400-3 : 0.985\n\tClassification de mushrooms-1400-4 : 0.9821428571428571\n\tClassification de mushrooms-1400-5 : 0.9821428571428571\n\t--> Classification de mushrooms-1124 : 0.9875444839857651\nApprentissage avec mushrooms-1400-4\n\tClassification de mushrooms-1400-1 : 0.9892857142857143\n\tClassification de mushrooms-1400-2 : 0.9857142857142858\n\tClassification de mushrooms-1400-3 : 0.985\n\tClassification de mushrooms-1400-4 : 0.9821428571428571\n\tClassification de mushrooms-1400-5 : 0.9821428571428571\n\t--> Classification de mushrooms-1124 : 0.9875444839857651\nApprentissage avec mushrooms-1400-5\n\tClassification de mushrooms-1400-1 : 0.9892857142857143\n\tClassification de mushrooms-1400-2 : 0.9857142857142858\n\tClassification de mushrooms-1400-3 : 0.985\n\tClassification de mushrooms-1400-4 : 0.9821428571428571\n\tClassification de mushrooms-1400-5 : 0.9821428571428571\n\t--> Classification de mushrooms-1124 : 0.9875444839857651\n"
     ]
    }
   ],
   "source": [
    "for i in range(0,5) :\n",
    "    print(\"Apprentissage avec mushrooms-1400-\" + str(i + 1))\n",
    "    \n",
    "    for j in range(0,5) :\n",
    "        predict_value = arbres_mushrooms[i].accuracy(mushrooms_desc[j], mushrooms_label[j])\n",
    "        print(\"\\tClassification de mushrooms-1400-\" + str(j + 1) + \" : \" + str(predict_value))\n",
    "        \n",
    "    predict_value = arbres_mushrooms[i].accuracy(mushrooms_test_desc, mushrooms_test_label)\n",
    "    print(\"\\t--> Classification de mushrooms-1124 : \" + str(predict_value))\n",
    "    "
   ]
  },
  {
   "cell_type": "code",
   "execution_count": 38,
   "metadata": {},
   "outputs": [
    {
     "name": "stdout",
     "output_type": "stream",
     "text": [
      "Apprentissage avec mushrooms-1400- 1\n",
      "\tclassification de mushrooms-1400- 1 :  1.0\n",
      "\tclassification de mushrooms-1400- 2 :  1.0\n",
      "\tclassification de mushrooms-1400- 3 :  0.9964285714285714\n",
      "\t*** Warning: attribut  cap-surface  -> Valeur inconnue:  y\n",
      "\t*** Warning: attribut  cap-surface  -> Valeur inconnue:  y\n",
      "\t*** Warning: attribut  cap-surface  -> Valeur inconnue:  y\n",
      "\tclassification de mushrooms-1400- 4 :  0.9957142857142857\n",
      "\tclassification de mushrooms-1400- 5 :  0.9971428571428571\n",
      "\t*** Warning: attribut  cap-surface  -> Valeur inconnue:  y\n",
      "\t--> classification de mushrooms-1124:  0.9955516014234875\n",
      "Apprentissage avec mushrooms-1400- 2\n",
      "\tclassification de mushrooms-1400- 1 :  0.9985714285714286\n",
      "\tclassification de mushrooms-1400- 2 :  1.0\n",
      "\tclassification de mushrooms-1400- 3 :  0.9964285714285714\n",
      "\tclassification de mushrooms-1400- 4 :  0.9957142857142857\n",
      "\tclassification de mushrooms-1400- 5 :  0.9964285714285714\n",
      "\t--> classification de mushrooms-1124:  0.994661921708185\n",
      "Apprentissage avec mushrooms-1400- 3\n",
      "\tclassification de mushrooms-1400- 1 :  0.9964285714285714\n",
      "\t*** Warning: attribut  cap-shape  -> Valeur inconnue:  c\n",
      "\t*** Warning: attribut  cap-shape  -> Valeur inconnue:  c\n",
      "\tclassification de mushrooms-1400- 2 :  0.9964285714285714\n",
      "\tclassification de mushrooms-1400- 3 :  1.0\n",
      "\t*** Warning: attribut  cap-shape  -> Valeur inconnue:  c\n",
      "\tclassification de mushrooms-1400- 4 :  0.9957142857142857\n",
      "\t*** Warning: attribut  cap-shape  -> Valeur inconnue:  c\n",
      "\tclassification de mushrooms-1400- 5 :  0.9971428571428571\n",
      "\t--> classification de mushrooms-1124:  1.0\n",
      "Apprentissage avec mushrooms-1400- 4\n",
      "\tclassification de mushrooms-1400- 1 :  1.0\n",
      "\tclassification de mushrooms-1400- 2 :  1.0\n",
      "\tclassification de mushrooms-1400- 3 :  1.0\n",
      "\tclassification de mushrooms-1400- 4 :  1.0\n",
      "\tclassification de mushrooms-1400- 5 :  1.0\n",
      "\t--> classification de mushrooms-1124:  1.0\n",
      "Apprentissage avec mushrooms-1400- 5\n",
      "\tclassification de mushrooms-1400- 1 :  0.9964285714285714\n",
      "\tclassification de mushrooms-1400- 2 :  0.9971428571428571\n",
      "\tclassification de mushrooms-1400- 3 :  0.9971428571428571\n",
      "\tclassification de mushrooms-1400- 4 :  0.995\n",
      "\tclassification de mushrooms-1400- 5 :  1.0\n",
      "\t--> classification de mushrooms-1124:  0.99644128113879\n"
     ]
    }
   ],
   "source": []
  },
  {
   "cell_type": "markdown",
   "metadata": {},
   "source": [
    "<font color=\"RED\" size=\"+1\">**[Q]**</font> On peut remarquer que pour certains arbres, la classification de certains exemples produit un warning.\n",
    "En étudiant les exemples suivant et leur classification par le premier arbre, expliquez pourquoi un warning se produit.\n",
    "Est-ce normal ? Pourrait-on trouver une solution pour ces cas-là ?\n"
   ]
  },
  {
   "cell_type": "code",
   "execution_count": 36,
   "metadata": {},
   "outputs": [],
   "source": [
    "for i in range(0,1400):\n",
    "    prediction = arbres_mushrooms[0].predict(mushrooms_desc[3][i,:])\n",
    "    if prediction == 0:\n",
    "        print(i,\" --> pas de prédiction, le label rendu est \",prediction)\n"
   ]
  },
  {
   "cell_type": "markdown",
   "metadata": {},
   "source": [
    "<font color=\"RED\" size=\"+1\">**[Q]**</font> Regrouper les 6 fichiers mushrooms et réaliser une évaluation de l'algorithme de construction d'arbres en utilisant votre fonction `crossvalidation`."
   ]
  },
  {
   "cell_type": "code",
   "execution_count": null,
   "metadata": {},
   "outputs": [],
   "source": []
  },
  {
   "cell_type": "markdown",
   "metadata": {},
   "source": [
    "## Evaluation \"Leave one out\"\n",
    "\n",
    "Nous avons vu 2 approches pour évaluer un algorithme d'apprentissage:\n",
    "- la mesure de l'accuracy sur les données d'apprentissage et sur une base de test\n",
    "- la réalisation d'une validation croisée pour mesurer l'accuracy et l'écart type (pour évaluer la robustesse) mesurées sur les données utilisées pour apprendre le modèle (données d'apprentissage) et sur des données qui n'ont pas été utilisées pour mettre au point le modèle (données test)\n",
    "\n",
    "La première approche est généralement utilisée pour comparer plusieurs modèles en regardant leur accuracy sur les mêmes données de test.\n",
    "La deuxième approche est, elle, utilisée pour aussi obtenir une certaine évaluation de la robustesse du modèle appris et garantir que l'accuracy mesurée n'est pas simplement obtenue sur \"un cas particulier\" de données.\n",
    "\n",
    "Cependant, il existe des cas où le dataset que l'on possède ne contient pas beaucoup d'exemples. Dans ce cas, deux possibilités:\n",
    "- il y a suffisament de données dans le dataset pour réaliser une validation croisée en réduisant le nombre de paquets (ie. prendre 4 paquets au lieu de 10 par exemple);\n",
    "- il y a trop peu d'exemples pour qu'une validation croisée soit réalisable, on utilise alors une autre technique d'évaluation: l'évaluation par **leave one out** (littéralement: \"en mettre un de côté\"). "
   ]
  },
  {
   "cell_type": "markdown",
   "metadata": {},
   "source": [
    "L'évaluation par **leave one out** procède ainsi: à partir d'un dataset $DS$ contenant $n$ exemples:\n",
    "1. sortir un des exemples de $DS$ et le mettre de côté\n",
    "2. apprendre le modèle sur les $n-1$ exemples non sortis de $DS$\n",
    "3. tester le modèle appris sur l'exemple mis de côté: il est soit bien classé (on marque 1 pt), soit mal classé (on marque 0 pt)\n",
    "4. prendre le $DS$ original est choisir un exemple différent à mettre de côté\n",
    "5. reprendre en 1) \n",
    "\n",
    "Les étapes 4) et 5) sont faites jusqu'à ce que tous les exemples de $DS$ aient été sortis à leur tour de $DS$.\n",
    "A la fin, l'accuracy de test du modèle est alors donnée par le ratio $\\frac{\\mbox{nombre de points marqués}}{n}$.\n",
    "\n",
    "<i>Remarque</i>: le plus simple dans cette approche, c'est de sortir les exemples en les prenant dans l'ordre dans lequel ils sont dans le dataset."
   ]
  },
  {
   "cell_type": "markdown",
   "metadata": {},
   "source": [
    "<font color=\"RED\" size=\"+1\">**[Q]**</font> Ecrire la fonction `leave_one_out` qui prend en argument un algorithme d'apprentissage $C$ et un dataset $DS$ et rend l'accuracy de test de $C$ calculée sur $DS$ en utilisant l'évaluation par leave one out."
   ]
  },
  {
   "cell_type": "code",
   "execution_count": 37,
   "metadata": {},
   "outputs": [],
   "source": [
    "import copy  # pour utiliser copy.deepcopy() qui permet de faire des copies de C \n",
    "\n",
    "# ------------------------ A COMPLETER :\n",
    "def leave_one_out(C, DS):\n",
    "    \"\"\" Classifieur * tuple[array, array] -> float\n",
    "    \"\"\"\n",
    "    \n",
    "    raise NotImplementedError(\"Please Implement this method\")"
   ]
  },
  {
   "cell_type": "markdown",
   "metadata": {},
   "source": [
    "Tester avec la base sur les élections européennes:"
   ]
  },
  {
   "cell_type": "code",
   "execution_count": 38,
   "metadata": {},
   "outputs": [
    {
     "output_type": "error",
     "ename": "NotImplementedError",
     "evalue": "Please Implement this method",
     "traceback": [
      "\u001b[1;31m---------------------------------------------------------------------------\u001b[0m",
      "\u001b[1;31mNotImplementedError\u001b[0m                       Traceback (most recent call last)",
      "\u001b[1;32m<ipython-input-38-4d61b0c0666b>\u001b[0m in \u001b[0;36m<module>\u001b[1;34m\u001b[0m\n\u001b[0;32m      7\u001b[0m \u001b[1;33m\u001b[0m\u001b[0m\n\u001b[0;32m      8\u001b[0m \u001b[1;31m# Lancement du leave one out\u001b[0m\u001b[1;33m\u001b[0m\u001b[1;33m\u001b[0m\u001b[1;33m\u001b[0m\u001b[0m\n\u001b[1;32m----> 9\u001b[1;33m \u001b[0mleave_one_out\u001b[0m\u001b[1;33m(\u001b[0m\u001b[0mClassifierArbreDecision\u001b[0m\u001b[1;33m(\u001b[0m\u001b[0mlen\u001b[0m\u001b[1;33m(\u001b[0m\u001b[0melections_noms\u001b[0m\u001b[1;33m)\u001b[0m\u001b[1;33m,\u001b[0m \u001b[1;36m0.1\u001b[0m\u001b[1;33m,\u001b[0m \u001b[0melections_noms\u001b[0m\u001b[1;33m)\u001b[0m\u001b[1;33m,\u001b[0m\u001b[1;33m(\u001b[0m\u001b[0mdata_desc\u001b[0m\u001b[1;33m,\u001b[0m\u001b[0mdata_label\u001b[0m\u001b[1;33m)\u001b[0m\u001b[1;33m)\u001b[0m\u001b[1;33m\u001b[0m\u001b[1;33m\u001b[0m\u001b[0m\n\u001b[0m",
      "\u001b[1;32m<ipython-input-37-dce3caa848b6>\u001b[0m in \u001b[0;36mleave_one_out\u001b[1;34m(C, DS)\u001b[0m\n\u001b[0;32m      6\u001b[0m     \"\"\"\n\u001b[0;32m      7\u001b[0m \u001b[1;33m\u001b[0m\u001b[0m\n\u001b[1;32m----> 8\u001b[1;33m     \u001b[1;32mraise\u001b[0m \u001b[0mNotImplementedError\u001b[0m\u001b[1;33m(\u001b[0m\u001b[1;34m\"Please Implement this method\"\u001b[0m\u001b[1;33m)\u001b[0m\u001b[1;33m\u001b[0m\u001b[1;33m\u001b[0m\u001b[0m\n\u001b[0m",
      "\u001b[1;31mNotImplementedError\u001b[0m: Please Implement this method"
     ]
    }
   ],
   "source": [
    "# Chargement et préparation du dataset:\n",
    "elections_df = pd.read_csv(\"data/elections.csv\")\n",
    "elections_noms = [nom for nom in elections_df.columns if nom != 'Label']\n",
    "\n",
    "data_desc = np.array(elections_df[elections_noms])\n",
    "data_label = np.array(elections_df['Label'])\n",
    "\n",
    "# Lancement du leave one out\n",
    "leave_one_out(ClassifierArbreDecision(len(elections_noms), 0.1, elections_noms),(data_desc,data_label))"
   ]
  },
  {
   "cell_type": "markdown",
   "metadata": {},
   "source": [
    "## Comparaison avec d'autres algorithmes\n",
    "\n",
    "Afin de pouvoir comparer les autres classifieurs que l'on a vu précédemment avec celui par arbres de décision, il faut les adapter afin qu'ils puissent traiter les données catégorielles.\n",
    "Comme on l'a vu lors du TME 5, on réalise cela en utilisant l'encodage one-hot.\n",
    "\n"
   ]
  },
  {
   "cell_type": "markdown",
   "metadata": {},
   "source": [
    "<font color=\"RED\" size=\"+1\">**[Q]**</font> Réaliser un ensemble d'expérimentations sur la base mushrooms permettant de comparer les résultats obtenus avec un classifieur par arbres de décision et les classifieurs numériques que l'on a définis dans les séances précédentes."
   ]
  },
  {
   "cell_type": "code",
   "execution_count": null,
   "metadata": {},
   "outputs": [],
   "source": []
  }
 ],
 "metadata": {
  "kernelspec": {
   "name": "python386jvsc74a57bd09c6bd1c1dcf038e17a85a01199468631d2d406fade8f6cc5eea24dc919f509a1",
   "display_name": "Python 3.8.6 64-bit"
  },
  "language_info": {
   "codemirror_mode": {
    "name": "ipython",
    "version": 3
   },
   "file_extension": ".py",
   "mimetype": "text/x-python",
   "name": "python",
   "nbconvert_exporter": "python",
   "pygments_lexer": "ipython3",
   "version": "3.8.6"
  }
 },
 "nbformat": 4,
 "nbformat_minor": 1
}